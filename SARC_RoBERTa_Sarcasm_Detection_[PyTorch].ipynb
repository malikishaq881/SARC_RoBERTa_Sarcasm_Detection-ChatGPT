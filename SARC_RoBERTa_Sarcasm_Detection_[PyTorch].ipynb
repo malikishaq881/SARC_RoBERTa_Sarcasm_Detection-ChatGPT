{
  "nbformat": 4,
  "nbformat_minor": 0,
  "metadata": {
    "colab": {
      "provenance": []
    },
    "kernelspec": {
      "name": "python3",
      "display_name": "Python 3"
    },
    "language_info": {
      "name": "python"
    },
    "accelerator": "GPU",
    "gpuClass": "standard",
    "widgets": {
      "application/vnd.jupyter.widget-state+json": {
        "906c39efb65a486ca0eca13326d8339a": {
          "model_module": "@jupyter-widgets/controls",
          "model_name": "HBoxModel",
          "model_module_version": "1.5.0",
          "state": {
            "_dom_classes": [],
            "_model_module": "@jupyter-widgets/controls",
            "_model_module_version": "1.5.0",
            "_model_name": "HBoxModel",
            "_view_count": null,
            "_view_module": "@jupyter-widgets/controls",
            "_view_module_version": "1.5.0",
            "_view_name": "HBoxView",
            "box_style": "",
            "children": [
              "IPY_MODEL_c61fbd5a03a149b096ee91e98e71316f",
              "IPY_MODEL_056ad9d8ff60477e9f4624b8cec04c23",
              "IPY_MODEL_373dc68fd1ce44d59577e51b207e858a"
            ],
            "layout": "IPY_MODEL_1a0c15c3a4c44a5ba778a991a920e247"
          }
        },
        "c61fbd5a03a149b096ee91e98e71316f": {
          "model_module": "@jupyter-widgets/controls",
          "model_name": "HTMLModel",
          "model_module_version": "1.5.0",
          "state": {
            "_dom_classes": [],
            "_model_module": "@jupyter-widgets/controls",
            "_model_module_version": "1.5.0",
            "_model_name": "HTMLModel",
            "_view_count": null,
            "_view_module": "@jupyter-widgets/controls",
            "_view_module_version": "1.5.0",
            "_view_name": "HTMLView",
            "description": "",
            "description_tooltip": null,
            "layout": "IPY_MODEL_f51032802460416992159064a4c6e608",
            "placeholder": "​",
            "style": "IPY_MODEL_0f017e89b48e4d21b2fb54cc87d0b499",
            "value": "Downloading (…)okenizer_config.json: 100%"
          }
        },
        "056ad9d8ff60477e9f4624b8cec04c23": {
          "model_module": "@jupyter-widgets/controls",
          "model_name": "FloatProgressModel",
          "model_module_version": "1.5.0",
          "state": {
            "_dom_classes": [],
            "_model_module": "@jupyter-widgets/controls",
            "_model_module_version": "1.5.0",
            "_model_name": "FloatProgressModel",
            "_view_count": null,
            "_view_module": "@jupyter-widgets/controls",
            "_view_module_version": "1.5.0",
            "_view_name": "ProgressView",
            "bar_style": "success",
            "description": "",
            "description_tooltip": null,
            "layout": "IPY_MODEL_1e0ae020934f48a6bc5c27cdc9d0488a",
            "max": 28,
            "min": 0,
            "orientation": "horizontal",
            "style": "IPY_MODEL_b94d456467c8448fa834cab0ff8091ea",
            "value": 28
          }
        },
        "373dc68fd1ce44d59577e51b207e858a": {
          "model_module": "@jupyter-widgets/controls",
          "model_name": "HTMLModel",
          "model_module_version": "1.5.0",
          "state": {
            "_dom_classes": [],
            "_model_module": "@jupyter-widgets/controls",
            "_model_module_version": "1.5.0",
            "_model_name": "HTMLModel",
            "_view_count": null,
            "_view_module": "@jupyter-widgets/controls",
            "_view_module_version": "1.5.0",
            "_view_name": "HTMLView",
            "description": "",
            "description_tooltip": null,
            "layout": "IPY_MODEL_a67366551d91459bbda59d038c82409e",
            "placeholder": "​",
            "style": "IPY_MODEL_769b230446974571a1f9cf1de3779be6",
            "value": " 28.0/28.0 [00:00&lt;00:00, 1.63kB/s]"
          }
        },
        "1a0c15c3a4c44a5ba778a991a920e247": {
          "model_module": "@jupyter-widgets/base",
          "model_name": "LayoutModel",
          "model_module_version": "1.2.0",
          "state": {
            "_model_module": "@jupyter-widgets/base",
            "_model_module_version": "1.2.0",
            "_model_name": "LayoutModel",
            "_view_count": null,
            "_view_module": "@jupyter-widgets/base",
            "_view_module_version": "1.2.0",
            "_view_name": "LayoutView",
            "align_content": null,
            "align_items": null,
            "align_self": null,
            "border": null,
            "bottom": null,
            "display": null,
            "flex": null,
            "flex_flow": null,
            "grid_area": null,
            "grid_auto_columns": null,
            "grid_auto_flow": null,
            "grid_auto_rows": null,
            "grid_column": null,
            "grid_gap": null,
            "grid_row": null,
            "grid_template_areas": null,
            "grid_template_columns": null,
            "grid_template_rows": null,
            "height": null,
            "justify_content": null,
            "justify_items": null,
            "left": null,
            "margin": null,
            "max_height": null,
            "max_width": null,
            "min_height": null,
            "min_width": null,
            "object_fit": null,
            "object_position": null,
            "order": null,
            "overflow": null,
            "overflow_x": null,
            "overflow_y": null,
            "padding": null,
            "right": null,
            "top": null,
            "visibility": null,
            "width": null
          }
        },
        "f51032802460416992159064a4c6e608": {
          "model_module": "@jupyter-widgets/base",
          "model_name": "LayoutModel",
          "model_module_version": "1.2.0",
          "state": {
            "_model_module": "@jupyter-widgets/base",
            "_model_module_version": "1.2.0",
            "_model_name": "LayoutModel",
            "_view_count": null,
            "_view_module": "@jupyter-widgets/base",
            "_view_module_version": "1.2.0",
            "_view_name": "LayoutView",
            "align_content": null,
            "align_items": null,
            "align_self": null,
            "border": null,
            "bottom": null,
            "display": null,
            "flex": null,
            "flex_flow": null,
            "grid_area": null,
            "grid_auto_columns": null,
            "grid_auto_flow": null,
            "grid_auto_rows": null,
            "grid_column": null,
            "grid_gap": null,
            "grid_row": null,
            "grid_template_areas": null,
            "grid_template_columns": null,
            "grid_template_rows": null,
            "height": null,
            "justify_content": null,
            "justify_items": null,
            "left": null,
            "margin": null,
            "max_height": null,
            "max_width": null,
            "min_height": null,
            "min_width": null,
            "object_fit": null,
            "object_position": null,
            "order": null,
            "overflow": null,
            "overflow_x": null,
            "overflow_y": null,
            "padding": null,
            "right": null,
            "top": null,
            "visibility": null,
            "width": null
          }
        },
        "0f017e89b48e4d21b2fb54cc87d0b499": {
          "model_module": "@jupyter-widgets/controls",
          "model_name": "DescriptionStyleModel",
          "model_module_version": "1.5.0",
          "state": {
            "_model_module": "@jupyter-widgets/controls",
            "_model_module_version": "1.5.0",
            "_model_name": "DescriptionStyleModel",
            "_view_count": null,
            "_view_module": "@jupyter-widgets/base",
            "_view_module_version": "1.2.0",
            "_view_name": "StyleView",
            "description_width": ""
          }
        },
        "1e0ae020934f48a6bc5c27cdc9d0488a": {
          "model_module": "@jupyter-widgets/base",
          "model_name": "LayoutModel",
          "model_module_version": "1.2.0",
          "state": {
            "_model_module": "@jupyter-widgets/base",
            "_model_module_version": "1.2.0",
            "_model_name": "LayoutModel",
            "_view_count": null,
            "_view_module": "@jupyter-widgets/base",
            "_view_module_version": "1.2.0",
            "_view_name": "LayoutView",
            "align_content": null,
            "align_items": null,
            "align_self": null,
            "border": null,
            "bottom": null,
            "display": null,
            "flex": null,
            "flex_flow": null,
            "grid_area": null,
            "grid_auto_columns": null,
            "grid_auto_flow": null,
            "grid_auto_rows": null,
            "grid_column": null,
            "grid_gap": null,
            "grid_row": null,
            "grid_template_areas": null,
            "grid_template_columns": null,
            "grid_template_rows": null,
            "height": null,
            "justify_content": null,
            "justify_items": null,
            "left": null,
            "margin": null,
            "max_height": null,
            "max_width": null,
            "min_height": null,
            "min_width": null,
            "object_fit": null,
            "object_position": null,
            "order": null,
            "overflow": null,
            "overflow_x": null,
            "overflow_y": null,
            "padding": null,
            "right": null,
            "top": null,
            "visibility": null,
            "width": null
          }
        },
        "b94d456467c8448fa834cab0ff8091ea": {
          "model_module": "@jupyter-widgets/controls",
          "model_name": "ProgressStyleModel",
          "model_module_version": "1.5.0",
          "state": {
            "_model_module": "@jupyter-widgets/controls",
            "_model_module_version": "1.5.0",
            "_model_name": "ProgressStyleModel",
            "_view_count": null,
            "_view_module": "@jupyter-widgets/base",
            "_view_module_version": "1.2.0",
            "_view_name": "StyleView",
            "bar_color": null,
            "description_width": ""
          }
        },
        "a67366551d91459bbda59d038c82409e": {
          "model_module": "@jupyter-widgets/base",
          "model_name": "LayoutModel",
          "model_module_version": "1.2.0",
          "state": {
            "_model_module": "@jupyter-widgets/base",
            "_model_module_version": "1.2.0",
            "_model_name": "LayoutModel",
            "_view_count": null,
            "_view_module": "@jupyter-widgets/base",
            "_view_module_version": "1.2.0",
            "_view_name": "LayoutView",
            "align_content": null,
            "align_items": null,
            "align_self": null,
            "border": null,
            "bottom": null,
            "display": null,
            "flex": null,
            "flex_flow": null,
            "grid_area": null,
            "grid_auto_columns": null,
            "grid_auto_flow": null,
            "grid_auto_rows": null,
            "grid_column": null,
            "grid_gap": null,
            "grid_row": null,
            "grid_template_areas": null,
            "grid_template_columns": null,
            "grid_template_rows": null,
            "height": null,
            "justify_content": null,
            "justify_items": null,
            "left": null,
            "margin": null,
            "max_height": null,
            "max_width": null,
            "min_height": null,
            "min_width": null,
            "object_fit": null,
            "object_position": null,
            "order": null,
            "overflow": null,
            "overflow_x": null,
            "overflow_y": null,
            "padding": null,
            "right": null,
            "top": null,
            "visibility": null,
            "width": null
          }
        },
        "769b230446974571a1f9cf1de3779be6": {
          "model_module": "@jupyter-widgets/controls",
          "model_name": "DescriptionStyleModel",
          "model_module_version": "1.5.0",
          "state": {
            "_model_module": "@jupyter-widgets/controls",
            "_model_module_version": "1.5.0",
            "_model_name": "DescriptionStyleModel",
            "_view_count": null,
            "_view_module": "@jupyter-widgets/base",
            "_view_module_version": "1.2.0",
            "_view_name": "StyleView",
            "description_width": ""
          }
        },
        "6d3d82d4468e45f0806ac78d8874bf80": {
          "model_module": "@jupyter-widgets/controls",
          "model_name": "HBoxModel",
          "model_module_version": "1.5.0",
          "state": {
            "_dom_classes": [],
            "_model_module": "@jupyter-widgets/controls",
            "_model_module_version": "1.5.0",
            "_model_name": "HBoxModel",
            "_view_count": null,
            "_view_module": "@jupyter-widgets/controls",
            "_view_module_version": "1.5.0",
            "_view_name": "HBoxView",
            "box_style": "",
            "children": [
              "IPY_MODEL_4960e93fd7ec499fb52df8fb3f6c7d36",
              "IPY_MODEL_5f56098b9e5d44e08ff095dce3ced9b2",
              "IPY_MODEL_a2de1dceaaf047aaa7b383e818e512cd"
            ],
            "layout": "IPY_MODEL_413f359391b74cf3870cadcd7337dbd8"
          }
        },
        "4960e93fd7ec499fb52df8fb3f6c7d36": {
          "model_module": "@jupyter-widgets/controls",
          "model_name": "HTMLModel",
          "model_module_version": "1.5.0",
          "state": {
            "_dom_classes": [],
            "_model_module": "@jupyter-widgets/controls",
            "_model_module_version": "1.5.0",
            "_model_name": "HTMLModel",
            "_view_count": null,
            "_view_module": "@jupyter-widgets/controls",
            "_view_module_version": "1.5.0",
            "_view_name": "HTMLView",
            "description": "",
            "description_tooltip": null,
            "layout": "IPY_MODEL_84cc6771355a423484c95db5a89aee97",
            "placeholder": "​",
            "style": "IPY_MODEL_b162cb01bea940e89a0a976012dc907c",
            "value": "Downloading (…)solve/main/vocab.txt: 100%"
          }
        },
        "5f56098b9e5d44e08ff095dce3ced9b2": {
          "model_module": "@jupyter-widgets/controls",
          "model_name": "FloatProgressModel",
          "model_module_version": "1.5.0",
          "state": {
            "_dom_classes": [],
            "_model_module": "@jupyter-widgets/controls",
            "_model_module_version": "1.5.0",
            "_model_name": "FloatProgressModel",
            "_view_count": null,
            "_view_module": "@jupyter-widgets/controls",
            "_view_module_version": "1.5.0",
            "_view_name": "ProgressView",
            "bar_style": "success",
            "description": "",
            "description_tooltip": null,
            "layout": "IPY_MODEL_e2b13ecb81e14f48aa05840a4b050f50",
            "max": 231508,
            "min": 0,
            "orientation": "horizontal",
            "style": "IPY_MODEL_01b8c2e79fff431a8857c01072463ca7",
            "value": 231508
          }
        },
        "a2de1dceaaf047aaa7b383e818e512cd": {
          "model_module": "@jupyter-widgets/controls",
          "model_name": "HTMLModel",
          "model_module_version": "1.5.0",
          "state": {
            "_dom_classes": [],
            "_model_module": "@jupyter-widgets/controls",
            "_model_module_version": "1.5.0",
            "_model_name": "HTMLModel",
            "_view_count": null,
            "_view_module": "@jupyter-widgets/controls",
            "_view_module_version": "1.5.0",
            "_view_name": "HTMLView",
            "description": "",
            "description_tooltip": null,
            "layout": "IPY_MODEL_3481c81e92d6468ea2eae3e720d69886",
            "placeholder": "​",
            "style": "IPY_MODEL_3d9b5dcfdadf42adb85d7d518ae40998",
            "value": " 232k/232k [00:00&lt;00:00, 9.15MB/s]"
          }
        },
        "413f359391b74cf3870cadcd7337dbd8": {
          "model_module": "@jupyter-widgets/base",
          "model_name": "LayoutModel",
          "model_module_version": "1.2.0",
          "state": {
            "_model_module": "@jupyter-widgets/base",
            "_model_module_version": "1.2.0",
            "_model_name": "LayoutModel",
            "_view_count": null,
            "_view_module": "@jupyter-widgets/base",
            "_view_module_version": "1.2.0",
            "_view_name": "LayoutView",
            "align_content": null,
            "align_items": null,
            "align_self": null,
            "border": null,
            "bottom": null,
            "display": null,
            "flex": null,
            "flex_flow": null,
            "grid_area": null,
            "grid_auto_columns": null,
            "grid_auto_flow": null,
            "grid_auto_rows": null,
            "grid_column": null,
            "grid_gap": null,
            "grid_row": null,
            "grid_template_areas": null,
            "grid_template_columns": null,
            "grid_template_rows": null,
            "height": null,
            "justify_content": null,
            "justify_items": null,
            "left": null,
            "margin": null,
            "max_height": null,
            "max_width": null,
            "min_height": null,
            "min_width": null,
            "object_fit": null,
            "object_position": null,
            "order": null,
            "overflow": null,
            "overflow_x": null,
            "overflow_y": null,
            "padding": null,
            "right": null,
            "top": null,
            "visibility": null,
            "width": null
          }
        },
        "84cc6771355a423484c95db5a89aee97": {
          "model_module": "@jupyter-widgets/base",
          "model_name": "LayoutModel",
          "model_module_version": "1.2.0",
          "state": {
            "_model_module": "@jupyter-widgets/base",
            "_model_module_version": "1.2.0",
            "_model_name": "LayoutModel",
            "_view_count": null,
            "_view_module": "@jupyter-widgets/base",
            "_view_module_version": "1.2.0",
            "_view_name": "LayoutView",
            "align_content": null,
            "align_items": null,
            "align_self": null,
            "border": null,
            "bottom": null,
            "display": null,
            "flex": null,
            "flex_flow": null,
            "grid_area": null,
            "grid_auto_columns": null,
            "grid_auto_flow": null,
            "grid_auto_rows": null,
            "grid_column": null,
            "grid_gap": null,
            "grid_row": null,
            "grid_template_areas": null,
            "grid_template_columns": null,
            "grid_template_rows": null,
            "height": null,
            "justify_content": null,
            "justify_items": null,
            "left": null,
            "margin": null,
            "max_height": null,
            "max_width": null,
            "min_height": null,
            "min_width": null,
            "object_fit": null,
            "object_position": null,
            "order": null,
            "overflow": null,
            "overflow_x": null,
            "overflow_y": null,
            "padding": null,
            "right": null,
            "top": null,
            "visibility": null,
            "width": null
          }
        },
        "b162cb01bea940e89a0a976012dc907c": {
          "model_module": "@jupyter-widgets/controls",
          "model_name": "DescriptionStyleModel",
          "model_module_version": "1.5.0",
          "state": {
            "_model_module": "@jupyter-widgets/controls",
            "_model_module_version": "1.5.0",
            "_model_name": "DescriptionStyleModel",
            "_view_count": null,
            "_view_module": "@jupyter-widgets/base",
            "_view_module_version": "1.2.0",
            "_view_name": "StyleView",
            "description_width": ""
          }
        },
        "e2b13ecb81e14f48aa05840a4b050f50": {
          "model_module": "@jupyter-widgets/base",
          "model_name": "LayoutModel",
          "model_module_version": "1.2.0",
          "state": {
            "_model_module": "@jupyter-widgets/base",
            "_model_module_version": "1.2.0",
            "_model_name": "LayoutModel",
            "_view_count": null,
            "_view_module": "@jupyter-widgets/base",
            "_view_module_version": "1.2.0",
            "_view_name": "LayoutView",
            "align_content": null,
            "align_items": null,
            "align_self": null,
            "border": null,
            "bottom": null,
            "display": null,
            "flex": null,
            "flex_flow": null,
            "grid_area": null,
            "grid_auto_columns": null,
            "grid_auto_flow": null,
            "grid_auto_rows": null,
            "grid_column": null,
            "grid_gap": null,
            "grid_row": null,
            "grid_template_areas": null,
            "grid_template_columns": null,
            "grid_template_rows": null,
            "height": null,
            "justify_content": null,
            "justify_items": null,
            "left": null,
            "margin": null,
            "max_height": null,
            "max_width": null,
            "min_height": null,
            "min_width": null,
            "object_fit": null,
            "object_position": null,
            "order": null,
            "overflow": null,
            "overflow_x": null,
            "overflow_y": null,
            "padding": null,
            "right": null,
            "top": null,
            "visibility": null,
            "width": null
          }
        },
        "01b8c2e79fff431a8857c01072463ca7": {
          "model_module": "@jupyter-widgets/controls",
          "model_name": "ProgressStyleModel",
          "model_module_version": "1.5.0",
          "state": {
            "_model_module": "@jupyter-widgets/controls",
            "_model_module_version": "1.5.0",
            "_model_name": "ProgressStyleModel",
            "_view_count": null,
            "_view_module": "@jupyter-widgets/base",
            "_view_module_version": "1.2.0",
            "_view_name": "StyleView",
            "bar_color": null,
            "description_width": ""
          }
        },
        "3481c81e92d6468ea2eae3e720d69886": {
          "model_module": "@jupyter-widgets/base",
          "model_name": "LayoutModel",
          "model_module_version": "1.2.0",
          "state": {
            "_model_module": "@jupyter-widgets/base",
            "_model_module_version": "1.2.0",
            "_model_name": "LayoutModel",
            "_view_count": null,
            "_view_module": "@jupyter-widgets/base",
            "_view_module_version": "1.2.0",
            "_view_name": "LayoutView",
            "align_content": null,
            "align_items": null,
            "align_self": null,
            "border": null,
            "bottom": null,
            "display": null,
            "flex": null,
            "flex_flow": null,
            "grid_area": null,
            "grid_auto_columns": null,
            "grid_auto_flow": null,
            "grid_auto_rows": null,
            "grid_column": null,
            "grid_gap": null,
            "grid_row": null,
            "grid_template_areas": null,
            "grid_template_columns": null,
            "grid_template_rows": null,
            "height": null,
            "justify_content": null,
            "justify_items": null,
            "left": null,
            "margin": null,
            "max_height": null,
            "max_width": null,
            "min_height": null,
            "min_width": null,
            "object_fit": null,
            "object_position": null,
            "order": null,
            "overflow": null,
            "overflow_x": null,
            "overflow_y": null,
            "padding": null,
            "right": null,
            "top": null,
            "visibility": null,
            "width": null
          }
        },
        "3d9b5dcfdadf42adb85d7d518ae40998": {
          "model_module": "@jupyter-widgets/controls",
          "model_name": "DescriptionStyleModel",
          "model_module_version": "1.5.0",
          "state": {
            "_model_module": "@jupyter-widgets/controls",
            "_model_module_version": "1.5.0",
            "_model_name": "DescriptionStyleModel",
            "_view_count": null,
            "_view_module": "@jupyter-widgets/base",
            "_view_module_version": "1.2.0",
            "_view_name": "StyleView",
            "description_width": ""
          }
        },
        "7d3f6c4fff7341939626998a6f4a27ab": {
          "model_module": "@jupyter-widgets/controls",
          "model_name": "HBoxModel",
          "model_module_version": "1.5.0",
          "state": {
            "_dom_classes": [],
            "_model_module": "@jupyter-widgets/controls",
            "_model_module_version": "1.5.0",
            "_model_name": "HBoxModel",
            "_view_count": null,
            "_view_module": "@jupyter-widgets/controls",
            "_view_module_version": "1.5.0",
            "_view_name": "HBoxView",
            "box_style": "",
            "children": [
              "IPY_MODEL_f35249c11c5d4f87b73bca7938b77975",
              "IPY_MODEL_2a01bf7c9ad74776a80be5a01763a55e",
              "IPY_MODEL_87fcd2ecc2c94df1a105b9d23fce47df"
            ],
            "layout": "IPY_MODEL_745f1201d8994e68aae42f55ba78cb9a"
          }
        },
        "f35249c11c5d4f87b73bca7938b77975": {
          "model_module": "@jupyter-widgets/controls",
          "model_name": "HTMLModel",
          "model_module_version": "1.5.0",
          "state": {
            "_dom_classes": [],
            "_model_module": "@jupyter-widgets/controls",
            "_model_module_version": "1.5.0",
            "_model_name": "HTMLModel",
            "_view_count": null,
            "_view_module": "@jupyter-widgets/controls",
            "_view_module_version": "1.5.0",
            "_view_name": "HTMLView",
            "description": "",
            "description_tooltip": null,
            "layout": "IPY_MODEL_ee2677aebb234bdc9dab73cbb03217ff",
            "placeholder": "​",
            "style": "IPY_MODEL_7787b72a538e4b30b70d30fa4934132c",
            "value": "Downloading (…)/main/tokenizer.json: 100%"
          }
        },
        "2a01bf7c9ad74776a80be5a01763a55e": {
          "model_module": "@jupyter-widgets/controls",
          "model_name": "FloatProgressModel",
          "model_module_version": "1.5.0",
          "state": {
            "_dom_classes": [],
            "_model_module": "@jupyter-widgets/controls",
            "_model_module_version": "1.5.0",
            "_model_name": "FloatProgressModel",
            "_view_count": null,
            "_view_module": "@jupyter-widgets/controls",
            "_view_module_version": "1.5.0",
            "_view_name": "ProgressView",
            "bar_style": "success",
            "description": "",
            "description_tooltip": null,
            "layout": "IPY_MODEL_7216f662f3e1430cafd44ed884806f1b",
            "max": 466062,
            "min": 0,
            "orientation": "horizontal",
            "style": "IPY_MODEL_b8ea8c1f7cf040a19f160d8381bac31c",
            "value": 466062
          }
        },
        "87fcd2ecc2c94df1a105b9d23fce47df": {
          "model_module": "@jupyter-widgets/controls",
          "model_name": "HTMLModel",
          "model_module_version": "1.5.0",
          "state": {
            "_dom_classes": [],
            "_model_module": "@jupyter-widgets/controls",
            "_model_module_version": "1.5.0",
            "_model_name": "HTMLModel",
            "_view_count": null,
            "_view_module": "@jupyter-widgets/controls",
            "_view_module_version": "1.5.0",
            "_view_name": "HTMLView",
            "description": "",
            "description_tooltip": null,
            "layout": "IPY_MODEL_4820743970ff4958a376b6d04f69758d",
            "placeholder": "​",
            "style": "IPY_MODEL_06a9fcd53803443b9f86d4cdb5ec36b1",
            "value": " 466k/466k [00:00&lt;00:00, 2.34MB/s]"
          }
        },
        "745f1201d8994e68aae42f55ba78cb9a": {
          "model_module": "@jupyter-widgets/base",
          "model_name": "LayoutModel",
          "model_module_version": "1.2.0",
          "state": {
            "_model_module": "@jupyter-widgets/base",
            "_model_module_version": "1.2.0",
            "_model_name": "LayoutModel",
            "_view_count": null,
            "_view_module": "@jupyter-widgets/base",
            "_view_module_version": "1.2.0",
            "_view_name": "LayoutView",
            "align_content": null,
            "align_items": null,
            "align_self": null,
            "border": null,
            "bottom": null,
            "display": null,
            "flex": null,
            "flex_flow": null,
            "grid_area": null,
            "grid_auto_columns": null,
            "grid_auto_flow": null,
            "grid_auto_rows": null,
            "grid_column": null,
            "grid_gap": null,
            "grid_row": null,
            "grid_template_areas": null,
            "grid_template_columns": null,
            "grid_template_rows": null,
            "height": null,
            "justify_content": null,
            "justify_items": null,
            "left": null,
            "margin": null,
            "max_height": null,
            "max_width": null,
            "min_height": null,
            "min_width": null,
            "object_fit": null,
            "object_position": null,
            "order": null,
            "overflow": null,
            "overflow_x": null,
            "overflow_y": null,
            "padding": null,
            "right": null,
            "top": null,
            "visibility": null,
            "width": null
          }
        },
        "ee2677aebb234bdc9dab73cbb03217ff": {
          "model_module": "@jupyter-widgets/base",
          "model_name": "LayoutModel",
          "model_module_version": "1.2.0",
          "state": {
            "_model_module": "@jupyter-widgets/base",
            "_model_module_version": "1.2.0",
            "_model_name": "LayoutModel",
            "_view_count": null,
            "_view_module": "@jupyter-widgets/base",
            "_view_module_version": "1.2.0",
            "_view_name": "LayoutView",
            "align_content": null,
            "align_items": null,
            "align_self": null,
            "border": null,
            "bottom": null,
            "display": null,
            "flex": null,
            "flex_flow": null,
            "grid_area": null,
            "grid_auto_columns": null,
            "grid_auto_flow": null,
            "grid_auto_rows": null,
            "grid_column": null,
            "grid_gap": null,
            "grid_row": null,
            "grid_template_areas": null,
            "grid_template_columns": null,
            "grid_template_rows": null,
            "height": null,
            "justify_content": null,
            "justify_items": null,
            "left": null,
            "margin": null,
            "max_height": null,
            "max_width": null,
            "min_height": null,
            "min_width": null,
            "object_fit": null,
            "object_position": null,
            "order": null,
            "overflow": null,
            "overflow_x": null,
            "overflow_y": null,
            "padding": null,
            "right": null,
            "top": null,
            "visibility": null,
            "width": null
          }
        },
        "7787b72a538e4b30b70d30fa4934132c": {
          "model_module": "@jupyter-widgets/controls",
          "model_name": "DescriptionStyleModel",
          "model_module_version": "1.5.0",
          "state": {
            "_model_module": "@jupyter-widgets/controls",
            "_model_module_version": "1.5.0",
            "_model_name": "DescriptionStyleModel",
            "_view_count": null,
            "_view_module": "@jupyter-widgets/base",
            "_view_module_version": "1.2.0",
            "_view_name": "StyleView",
            "description_width": ""
          }
        },
        "7216f662f3e1430cafd44ed884806f1b": {
          "model_module": "@jupyter-widgets/base",
          "model_name": "LayoutModel",
          "model_module_version": "1.2.0",
          "state": {
            "_model_module": "@jupyter-widgets/base",
            "_model_module_version": "1.2.0",
            "_model_name": "LayoutModel",
            "_view_count": null,
            "_view_module": "@jupyter-widgets/base",
            "_view_module_version": "1.2.0",
            "_view_name": "LayoutView",
            "align_content": null,
            "align_items": null,
            "align_self": null,
            "border": null,
            "bottom": null,
            "display": null,
            "flex": null,
            "flex_flow": null,
            "grid_area": null,
            "grid_auto_columns": null,
            "grid_auto_flow": null,
            "grid_auto_rows": null,
            "grid_column": null,
            "grid_gap": null,
            "grid_row": null,
            "grid_template_areas": null,
            "grid_template_columns": null,
            "grid_template_rows": null,
            "height": null,
            "justify_content": null,
            "justify_items": null,
            "left": null,
            "margin": null,
            "max_height": null,
            "max_width": null,
            "min_height": null,
            "min_width": null,
            "object_fit": null,
            "object_position": null,
            "order": null,
            "overflow": null,
            "overflow_x": null,
            "overflow_y": null,
            "padding": null,
            "right": null,
            "top": null,
            "visibility": null,
            "width": null
          }
        },
        "b8ea8c1f7cf040a19f160d8381bac31c": {
          "model_module": "@jupyter-widgets/controls",
          "model_name": "ProgressStyleModel",
          "model_module_version": "1.5.0",
          "state": {
            "_model_module": "@jupyter-widgets/controls",
            "_model_module_version": "1.5.0",
            "_model_name": "ProgressStyleModel",
            "_view_count": null,
            "_view_module": "@jupyter-widgets/base",
            "_view_module_version": "1.2.0",
            "_view_name": "StyleView",
            "bar_color": null,
            "description_width": ""
          }
        },
        "4820743970ff4958a376b6d04f69758d": {
          "model_module": "@jupyter-widgets/base",
          "model_name": "LayoutModel",
          "model_module_version": "1.2.0",
          "state": {
            "_model_module": "@jupyter-widgets/base",
            "_model_module_version": "1.2.0",
            "_model_name": "LayoutModel",
            "_view_count": null,
            "_view_module": "@jupyter-widgets/base",
            "_view_module_version": "1.2.0",
            "_view_name": "LayoutView",
            "align_content": null,
            "align_items": null,
            "align_self": null,
            "border": null,
            "bottom": null,
            "display": null,
            "flex": null,
            "flex_flow": null,
            "grid_area": null,
            "grid_auto_columns": null,
            "grid_auto_flow": null,
            "grid_auto_rows": null,
            "grid_column": null,
            "grid_gap": null,
            "grid_row": null,
            "grid_template_areas": null,
            "grid_template_columns": null,
            "grid_template_rows": null,
            "height": null,
            "justify_content": null,
            "justify_items": null,
            "left": null,
            "margin": null,
            "max_height": null,
            "max_width": null,
            "min_height": null,
            "min_width": null,
            "object_fit": null,
            "object_position": null,
            "order": null,
            "overflow": null,
            "overflow_x": null,
            "overflow_y": null,
            "padding": null,
            "right": null,
            "top": null,
            "visibility": null,
            "width": null
          }
        },
        "06a9fcd53803443b9f86d4cdb5ec36b1": {
          "model_module": "@jupyter-widgets/controls",
          "model_name": "DescriptionStyleModel",
          "model_module_version": "1.5.0",
          "state": {
            "_model_module": "@jupyter-widgets/controls",
            "_model_module_version": "1.5.0",
            "_model_name": "DescriptionStyleModel",
            "_view_count": null,
            "_view_module": "@jupyter-widgets/base",
            "_view_module_version": "1.2.0",
            "_view_name": "StyleView",
            "description_width": ""
          }
        },
        "8602c2e084c04d869a26d00496708114": {
          "model_module": "@jupyter-widgets/controls",
          "model_name": "HBoxModel",
          "model_module_version": "1.5.0",
          "state": {
            "_dom_classes": [],
            "_model_module": "@jupyter-widgets/controls",
            "_model_module_version": "1.5.0",
            "_model_name": "HBoxModel",
            "_view_count": null,
            "_view_module": "@jupyter-widgets/controls",
            "_view_module_version": "1.5.0",
            "_view_name": "HBoxView",
            "box_style": "",
            "children": [
              "IPY_MODEL_98ee47742ffb4dfd950b4b933fbc52ac",
              "IPY_MODEL_1fb8a97257144d7aa215f939208076b4",
              "IPY_MODEL_2a2c81405c8b4d19967ebe54aa1fd7a6"
            ],
            "layout": "IPY_MODEL_373287a251024d41b9323394b7b2bb51"
          }
        },
        "98ee47742ffb4dfd950b4b933fbc52ac": {
          "model_module": "@jupyter-widgets/controls",
          "model_name": "HTMLModel",
          "model_module_version": "1.5.0",
          "state": {
            "_dom_classes": [],
            "_model_module": "@jupyter-widgets/controls",
            "_model_module_version": "1.5.0",
            "_model_name": "HTMLModel",
            "_view_count": null,
            "_view_module": "@jupyter-widgets/controls",
            "_view_module_version": "1.5.0",
            "_view_name": "HTMLView",
            "description": "",
            "description_tooltip": null,
            "layout": "IPY_MODEL_0dda49819ffe439490f9d41918e8b32a",
            "placeholder": "​",
            "style": "IPY_MODEL_d6b90105bce94d0faebe4c243e5e1d3a",
            "value": "Downloading (…)lve/main/config.json: 100%"
          }
        },
        "1fb8a97257144d7aa215f939208076b4": {
          "model_module": "@jupyter-widgets/controls",
          "model_name": "FloatProgressModel",
          "model_module_version": "1.5.0",
          "state": {
            "_dom_classes": [],
            "_model_module": "@jupyter-widgets/controls",
            "_model_module_version": "1.5.0",
            "_model_name": "FloatProgressModel",
            "_view_count": null,
            "_view_module": "@jupyter-widgets/controls",
            "_view_module_version": "1.5.0",
            "_view_name": "ProgressView",
            "bar_style": "success",
            "description": "",
            "description_tooltip": null,
            "layout": "IPY_MODEL_8a774bde6ab94cd4b3a7db47383b190d",
            "max": 570,
            "min": 0,
            "orientation": "horizontal",
            "style": "IPY_MODEL_68966c2e4e744c65bc2b4006c6eb0bcc",
            "value": 570
          }
        },
        "2a2c81405c8b4d19967ebe54aa1fd7a6": {
          "model_module": "@jupyter-widgets/controls",
          "model_name": "HTMLModel",
          "model_module_version": "1.5.0",
          "state": {
            "_dom_classes": [],
            "_model_module": "@jupyter-widgets/controls",
            "_model_module_version": "1.5.0",
            "_model_name": "HTMLModel",
            "_view_count": null,
            "_view_module": "@jupyter-widgets/controls",
            "_view_module_version": "1.5.0",
            "_view_name": "HTMLView",
            "description": "",
            "description_tooltip": null,
            "layout": "IPY_MODEL_f307d87abe6e484280f5a977b537e23c",
            "placeholder": "​",
            "style": "IPY_MODEL_ce6937d8375c4de4a8ec3601671f1dc8",
            "value": " 570/570 [00:00&lt;00:00, 44.7kB/s]"
          }
        },
        "373287a251024d41b9323394b7b2bb51": {
          "model_module": "@jupyter-widgets/base",
          "model_name": "LayoutModel",
          "model_module_version": "1.2.0",
          "state": {
            "_model_module": "@jupyter-widgets/base",
            "_model_module_version": "1.2.0",
            "_model_name": "LayoutModel",
            "_view_count": null,
            "_view_module": "@jupyter-widgets/base",
            "_view_module_version": "1.2.0",
            "_view_name": "LayoutView",
            "align_content": null,
            "align_items": null,
            "align_self": null,
            "border": null,
            "bottom": null,
            "display": null,
            "flex": null,
            "flex_flow": null,
            "grid_area": null,
            "grid_auto_columns": null,
            "grid_auto_flow": null,
            "grid_auto_rows": null,
            "grid_column": null,
            "grid_gap": null,
            "grid_row": null,
            "grid_template_areas": null,
            "grid_template_columns": null,
            "grid_template_rows": null,
            "height": null,
            "justify_content": null,
            "justify_items": null,
            "left": null,
            "margin": null,
            "max_height": null,
            "max_width": null,
            "min_height": null,
            "min_width": null,
            "object_fit": null,
            "object_position": null,
            "order": null,
            "overflow": null,
            "overflow_x": null,
            "overflow_y": null,
            "padding": null,
            "right": null,
            "top": null,
            "visibility": null,
            "width": null
          }
        },
        "0dda49819ffe439490f9d41918e8b32a": {
          "model_module": "@jupyter-widgets/base",
          "model_name": "LayoutModel",
          "model_module_version": "1.2.0",
          "state": {
            "_model_module": "@jupyter-widgets/base",
            "_model_module_version": "1.2.0",
            "_model_name": "LayoutModel",
            "_view_count": null,
            "_view_module": "@jupyter-widgets/base",
            "_view_module_version": "1.2.0",
            "_view_name": "LayoutView",
            "align_content": null,
            "align_items": null,
            "align_self": null,
            "border": null,
            "bottom": null,
            "display": null,
            "flex": null,
            "flex_flow": null,
            "grid_area": null,
            "grid_auto_columns": null,
            "grid_auto_flow": null,
            "grid_auto_rows": null,
            "grid_column": null,
            "grid_gap": null,
            "grid_row": null,
            "grid_template_areas": null,
            "grid_template_columns": null,
            "grid_template_rows": null,
            "height": null,
            "justify_content": null,
            "justify_items": null,
            "left": null,
            "margin": null,
            "max_height": null,
            "max_width": null,
            "min_height": null,
            "min_width": null,
            "object_fit": null,
            "object_position": null,
            "order": null,
            "overflow": null,
            "overflow_x": null,
            "overflow_y": null,
            "padding": null,
            "right": null,
            "top": null,
            "visibility": null,
            "width": null
          }
        },
        "d6b90105bce94d0faebe4c243e5e1d3a": {
          "model_module": "@jupyter-widgets/controls",
          "model_name": "DescriptionStyleModel",
          "model_module_version": "1.5.0",
          "state": {
            "_model_module": "@jupyter-widgets/controls",
            "_model_module_version": "1.5.0",
            "_model_name": "DescriptionStyleModel",
            "_view_count": null,
            "_view_module": "@jupyter-widgets/base",
            "_view_module_version": "1.2.0",
            "_view_name": "StyleView",
            "description_width": ""
          }
        },
        "8a774bde6ab94cd4b3a7db47383b190d": {
          "model_module": "@jupyter-widgets/base",
          "model_name": "LayoutModel",
          "model_module_version": "1.2.0",
          "state": {
            "_model_module": "@jupyter-widgets/base",
            "_model_module_version": "1.2.0",
            "_model_name": "LayoutModel",
            "_view_count": null,
            "_view_module": "@jupyter-widgets/base",
            "_view_module_version": "1.2.0",
            "_view_name": "LayoutView",
            "align_content": null,
            "align_items": null,
            "align_self": null,
            "border": null,
            "bottom": null,
            "display": null,
            "flex": null,
            "flex_flow": null,
            "grid_area": null,
            "grid_auto_columns": null,
            "grid_auto_flow": null,
            "grid_auto_rows": null,
            "grid_column": null,
            "grid_gap": null,
            "grid_row": null,
            "grid_template_areas": null,
            "grid_template_columns": null,
            "grid_template_rows": null,
            "height": null,
            "justify_content": null,
            "justify_items": null,
            "left": null,
            "margin": null,
            "max_height": null,
            "max_width": null,
            "min_height": null,
            "min_width": null,
            "object_fit": null,
            "object_position": null,
            "order": null,
            "overflow": null,
            "overflow_x": null,
            "overflow_y": null,
            "padding": null,
            "right": null,
            "top": null,
            "visibility": null,
            "width": null
          }
        },
        "68966c2e4e744c65bc2b4006c6eb0bcc": {
          "model_module": "@jupyter-widgets/controls",
          "model_name": "ProgressStyleModel",
          "model_module_version": "1.5.0",
          "state": {
            "_model_module": "@jupyter-widgets/controls",
            "_model_module_version": "1.5.0",
            "_model_name": "ProgressStyleModel",
            "_view_count": null,
            "_view_module": "@jupyter-widgets/base",
            "_view_module_version": "1.2.0",
            "_view_name": "StyleView",
            "bar_color": null,
            "description_width": ""
          }
        },
        "f307d87abe6e484280f5a977b537e23c": {
          "model_module": "@jupyter-widgets/base",
          "model_name": "LayoutModel",
          "model_module_version": "1.2.0",
          "state": {
            "_model_module": "@jupyter-widgets/base",
            "_model_module_version": "1.2.0",
            "_model_name": "LayoutModel",
            "_view_count": null,
            "_view_module": "@jupyter-widgets/base",
            "_view_module_version": "1.2.0",
            "_view_name": "LayoutView",
            "align_content": null,
            "align_items": null,
            "align_self": null,
            "border": null,
            "bottom": null,
            "display": null,
            "flex": null,
            "flex_flow": null,
            "grid_area": null,
            "grid_auto_columns": null,
            "grid_auto_flow": null,
            "grid_auto_rows": null,
            "grid_column": null,
            "grid_gap": null,
            "grid_row": null,
            "grid_template_areas": null,
            "grid_template_columns": null,
            "grid_template_rows": null,
            "height": null,
            "justify_content": null,
            "justify_items": null,
            "left": null,
            "margin": null,
            "max_height": null,
            "max_width": null,
            "min_height": null,
            "min_width": null,
            "object_fit": null,
            "object_position": null,
            "order": null,
            "overflow": null,
            "overflow_x": null,
            "overflow_y": null,
            "padding": null,
            "right": null,
            "top": null,
            "visibility": null,
            "width": null
          }
        },
        "ce6937d8375c4de4a8ec3601671f1dc8": {
          "model_module": "@jupyter-widgets/controls",
          "model_name": "DescriptionStyleModel",
          "model_module_version": "1.5.0",
          "state": {
            "_model_module": "@jupyter-widgets/controls",
            "_model_module_version": "1.5.0",
            "_model_name": "DescriptionStyleModel",
            "_view_count": null,
            "_view_module": "@jupyter-widgets/base",
            "_view_module_version": "1.2.0",
            "_view_name": "StyleView",
            "description_width": ""
          }
        },
        "4f0905fe0b704580805c9493785ea900": {
          "model_module": "@jupyter-widgets/controls",
          "model_name": "HBoxModel",
          "model_module_version": "1.5.0",
          "state": {
            "_dom_classes": [],
            "_model_module": "@jupyter-widgets/controls",
            "_model_module_version": "1.5.0",
            "_model_name": "HBoxModel",
            "_view_count": null,
            "_view_module": "@jupyter-widgets/controls",
            "_view_module_version": "1.5.0",
            "_view_name": "HBoxView",
            "box_style": "",
            "children": [
              "IPY_MODEL_56d75fae58724de6adaa69b7adc65a1b",
              "IPY_MODEL_d8c567b0f6b5425889c66162d4d44a07",
              "IPY_MODEL_df729a82d4eb419483acdb1984a113f7"
            ],
            "layout": "IPY_MODEL_5defb74ad3e04975a7d16c8ccfd80a7c"
          }
        },
        "56d75fae58724de6adaa69b7adc65a1b": {
          "model_module": "@jupyter-widgets/controls",
          "model_name": "HTMLModel",
          "model_module_version": "1.5.0",
          "state": {
            "_dom_classes": [],
            "_model_module": "@jupyter-widgets/controls",
            "_model_module_version": "1.5.0",
            "_model_name": "HTMLModel",
            "_view_count": null,
            "_view_module": "@jupyter-widgets/controls",
            "_view_module_version": "1.5.0",
            "_view_name": "HTMLView",
            "description": "",
            "description_tooltip": null,
            "layout": "IPY_MODEL_1ad9d76bb5bd4662956bfa78521ee8cb",
            "placeholder": "​",
            "style": "IPY_MODEL_b8fb6caa882646eba4ec9817b9effe50",
            "value": "Downloading (…)olve/main/vocab.json: 100%"
          }
        },
        "d8c567b0f6b5425889c66162d4d44a07": {
          "model_module": "@jupyter-widgets/controls",
          "model_name": "FloatProgressModel",
          "model_module_version": "1.5.0",
          "state": {
            "_dom_classes": [],
            "_model_module": "@jupyter-widgets/controls",
            "_model_module_version": "1.5.0",
            "_model_name": "FloatProgressModel",
            "_view_count": null,
            "_view_module": "@jupyter-widgets/controls",
            "_view_module_version": "1.5.0",
            "_view_name": "ProgressView",
            "bar_style": "success",
            "description": "",
            "description_tooltip": null,
            "layout": "IPY_MODEL_61a7dc79bb3a472f9cb05ec31ce49c0f",
            "max": 898823,
            "min": 0,
            "orientation": "horizontal",
            "style": "IPY_MODEL_29b5b05359e3432799dfecba5632fed5",
            "value": 898823
          }
        },
        "df729a82d4eb419483acdb1984a113f7": {
          "model_module": "@jupyter-widgets/controls",
          "model_name": "HTMLModel",
          "model_module_version": "1.5.0",
          "state": {
            "_dom_classes": [],
            "_model_module": "@jupyter-widgets/controls",
            "_model_module_version": "1.5.0",
            "_model_name": "HTMLModel",
            "_view_count": null,
            "_view_module": "@jupyter-widgets/controls",
            "_view_module_version": "1.5.0",
            "_view_name": "HTMLView",
            "description": "",
            "description_tooltip": null,
            "layout": "IPY_MODEL_1620d8f96085499fa15a0fb4db4751ba",
            "placeholder": "​",
            "style": "IPY_MODEL_fdb01804a6894829a5b90abe5ca17a6c",
            "value": " 899k/899k [00:00&lt;00:00, 3.39MB/s]"
          }
        },
        "5defb74ad3e04975a7d16c8ccfd80a7c": {
          "model_module": "@jupyter-widgets/base",
          "model_name": "LayoutModel",
          "model_module_version": "1.2.0",
          "state": {
            "_model_module": "@jupyter-widgets/base",
            "_model_module_version": "1.2.0",
            "_model_name": "LayoutModel",
            "_view_count": null,
            "_view_module": "@jupyter-widgets/base",
            "_view_module_version": "1.2.0",
            "_view_name": "LayoutView",
            "align_content": null,
            "align_items": null,
            "align_self": null,
            "border": null,
            "bottom": null,
            "display": null,
            "flex": null,
            "flex_flow": null,
            "grid_area": null,
            "grid_auto_columns": null,
            "grid_auto_flow": null,
            "grid_auto_rows": null,
            "grid_column": null,
            "grid_gap": null,
            "grid_row": null,
            "grid_template_areas": null,
            "grid_template_columns": null,
            "grid_template_rows": null,
            "height": null,
            "justify_content": null,
            "justify_items": null,
            "left": null,
            "margin": null,
            "max_height": null,
            "max_width": null,
            "min_height": null,
            "min_width": null,
            "object_fit": null,
            "object_position": null,
            "order": null,
            "overflow": null,
            "overflow_x": null,
            "overflow_y": null,
            "padding": null,
            "right": null,
            "top": null,
            "visibility": null,
            "width": null
          }
        },
        "1ad9d76bb5bd4662956bfa78521ee8cb": {
          "model_module": "@jupyter-widgets/base",
          "model_name": "LayoutModel",
          "model_module_version": "1.2.0",
          "state": {
            "_model_module": "@jupyter-widgets/base",
            "_model_module_version": "1.2.0",
            "_model_name": "LayoutModel",
            "_view_count": null,
            "_view_module": "@jupyter-widgets/base",
            "_view_module_version": "1.2.0",
            "_view_name": "LayoutView",
            "align_content": null,
            "align_items": null,
            "align_self": null,
            "border": null,
            "bottom": null,
            "display": null,
            "flex": null,
            "flex_flow": null,
            "grid_area": null,
            "grid_auto_columns": null,
            "grid_auto_flow": null,
            "grid_auto_rows": null,
            "grid_column": null,
            "grid_gap": null,
            "grid_row": null,
            "grid_template_areas": null,
            "grid_template_columns": null,
            "grid_template_rows": null,
            "height": null,
            "justify_content": null,
            "justify_items": null,
            "left": null,
            "margin": null,
            "max_height": null,
            "max_width": null,
            "min_height": null,
            "min_width": null,
            "object_fit": null,
            "object_position": null,
            "order": null,
            "overflow": null,
            "overflow_x": null,
            "overflow_y": null,
            "padding": null,
            "right": null,
            "top": null,
            "visibility": null,
            "width": null
          }
        },
        "b8fb6caa882646eba4ec9817b9effe50": {
          "model_module": "@jupyter-widgets/controls",
          "model_name": "DescriptionStyleModel",
          "model_module_version": "1.5.0",
          "state": {
            "_model_module": "@jupyter-widgets/controls",
            "_model_module_version": "1.5.0",
            "_model_name": "DescriptionStyleModel",
            "_view_count": null,
            "_view_module": "@jupyter-widgets/base",
            "_view_module_version": "1.2.0",
            "_view_name": "StyleView",
            "description_width": ""
          }
        },
        "61a7dc79bb3a472f9cb05ec31ce49c0f": {
          "model_module": "@jupyter-widgets/base",
          "model_name": "LayoutModel",
          "model_module_version": "1.2.0",
          "state": {
            "_model_module": "@jupyter-widgets/base",
            "_model_module_version": "1.2.0",
            "_model_name": "LayoutModel",
            "_view_count": null,
            "_view_module": "@jupyter-widgets/base",
            "_view_module_version": "1.2.0",
            "_view_name": "LayoutView",
            "align_content": null,
            "align_items": null,
            "align_self": null,
            "border": null,
            "bottom": null,
            "display": null,
            "flex": null,
            "flex_flow": null,
            "grid_area": null,
            "grid_auto_columns": null,
            "grid_auto_flow": null,
            "grid_auto_rows": null,
            "grid_column": null,
            "grid_gap": null,
            "grid_row": null,
            "grid_template_areas": null,
            "grid_template_columns": null,
            "grid_template_rows": null,
            "height": null,
            "justify_content": null,
            "justify_items": null,
            "left": null,
            "margin": null,
            "max_height": null,
            "max_width": null,
            "min_height": null,
            "min_width": null,
            "object_fit": null,
            "object_position": null,
            "order": null,
            "overflow": null,
            "overflow_x": null,
            "overflow_y": null,
            "padding": null,
            "right": null,
            "top": null,
            "visibility": null,
            "width": null
          }
        },
        "29b5b05359e3432799dfecba5632fed5": {
          "model_module": "@jupyter-widgets/controls",
          "model_name": "ProgressStyleModel",
          "model_module_version": "1.5.0",
          "state": {
            "_model_module": "@jupyter-widgets/controls",
            "_model_module_version": "1.5.0",
            "_model_name": "ProgressStyleModel",
            "_view_count": null,
            "_view_module": "@jupyter-widgets/base",
            "_view_module_version": "1.2.0",
            "_view_name": "StyleView",
            "bar_color": null,
            "description_width": ""
          }
        },
        "1620d8f96085499fa15a0fb4db4751ba": {
          "model_module": "@jupyter-widgets/base",
          "model_name": "LayoutModel",
          "model_module_version": "1.2.0",
          "state": {
            "_model_module": "@jupyter-widgets/base",
            "_model_module_version": "1.2.0",
            "_model_name": "LayoutModel",
            "_view_count": null,
            "_view_module": "@jupyter-widgets/base",
            "_view_module_version": "1.2.0",
            "_view_name": "LayoutView",
            "align_content": null,
            "align_items": null,
            "align_self": null,
            "border": null,
            "bottom": null,
            "display": null,
            "flex": null,
            "flex_flow": null,
            "grid_area": null,
            "grid_auto_columns": null,
            "grid_auto_flow": null,
            "grid_auto_rows": null,
            "grid_column": null,
            "grid_gap": null,
            "grid_row": null,
            "grid_template_areas": null,
            "grid_template_columns": null,
            "grid_template_rows": null,
            "height": null,
            "justify_content": null,
            "justify_items": null,
            "left": null,
            "margin": null,
            "max_height": null,
            "max_width": null,
            "min_height": null,
            "min_width": null,
            "object_fit": null,
            "object_position": null,
            "order": null,
            "overflow": null,
            "overflow_x": null,
            "overflow_y": null,
            "padding": null,
            "right": null,
            "top": null,
            "visibility": null,
            "width": null
          }
        },
        "fdb01804a6894829a5b90abe5ca17a6c": {
          "model_module": "@jupyter-widgets/controls",
          "model_name": "DescriptionStyleModel",
          "model_module_version": "1.5.0",
          "state": {
            "_model_module": "@jupyter-widgets/controls",
            "_model_module_version": "1.5.0",
            "_model_name": "DescriptionStyleModel",
            "_view_count": null,
            "_view_module": "@jupyter-widgets/base",
            "_view_module_version": "1.2.0",
            "_view_name": "StyleView",
            "description_width": ""
          }
        },
        "dec58d3b11c0476e9aedf1195a6897ee": {
          "model_module": "@jupyter-widgets/controls",
          "model_name": "HBoxModel",
          "model_module_version": "1.5.0",
          "state": {
            "_dom_classes": [],
            "_model_module": "@jupyter-widgets/controls",
            "_model_module_version": "1.5.0",
            "_model_name": "HBoxModel",
            "_view_count": null,
            "_view_module": "@jupyter-widgets/controls",
            "_view_module_version": "1.5.0",
            "_view_name": "HBoxView",
            "box_style": "",
            "children": [
              "IPY_MODEL_f01f73cca9224ed2b209f23ba013db7e",
              "IPY_MODEL_e5885f85ff8345f0979ceb40dff2aa23",
              "IPY_MODEL_0f66616e297e41feafc99027cf31811a"
            ],
            "layout": "IPY_MODEL_4fe98a3ab4324caa9c86df595cca9121"
          }
        },
        "f01f73cca9224ed2b209f23ba013db7e": {
          "model_module": "@jupyter-widgets/controls",
          "model_name": "HTMLModel",
          "model_module_version": "1.5.0",
          "state": {
            "_dom_classes": [],
            "_model_module": "@jupyter-widgets/controls",
            "_model_module_version": "1.5.0",
            "_model_name": "HTMLModel",
            "_view_count": null,
            "_view_module": "@jupyter-widgets/controls",
            "_view_module_version": "1.5.0",
            "_view_name": "HTMLView",
            "description": "",
            "description_tooltip": null,
            "layout": "IPY_MODEL_3dd63d6002d942f79eb6db09ed6ef15c",
            "placeholder": "​",
            "style": "IPY_MODEL_a765156dd48746a1bfbb70b67e9b238e",
            "value": "Downloading (…)olve/main/merges.txt: 100%"
          }
        },
        "e5885f85ff8345f0979ceb40dff2aa23": {
          "model_module": "@jupyter-widgets/controls",
          "model_name": "FloatProgressModel",
          "model_module_version": "1.5.0",
          "state": {
            "_dom_classes": [],
            "_model_module": "@jupyter-widgets/controls",
            "_model_module_version": "1.5.0",
            "_model_name": "FloatProgressModel",
            "_view_count": null,
            "_view_module": "@jupyter-widgets/controls",
            "_view_module_version": "1.5.0",
            "_view_name": "ProgressView",
            "bar_style": "success",
            "description": "",
            "description_tooltip": null,
            "layout": "IPY_MODEL_284095b5439246f0a180cbb1f49b3353",
            "max": 456318,
            "min": 0,
            "orientation": "horizontal",
            "style": "IPY_MODEL_3d12d63256d844e18a99ac13894bad9e",
            "value": 456318
          }
        },
        "0f66616e297e41feafc99027cf31811a": {
          "model_module": "@jupyter-widgets/controls",
          "model_name": "HTMLModel",
          "model_module_version": "1.5.0",
          "state": {
            "_dom_classes": [],
            "_model_module": "@jupyter-widgets/controls",
            "_model_module_version": "1.5.0",
            "_model_name": "HTMLModel",
            "_view_count": null,
            "_view_module": "@jupyter-widgets/controls",
            "_view_module_version": "1.5.0",
            "_view_name": "HTMLView",
            "description": "",
            "description_tooltip": null,
            "layout": "IPY_MODEL_f8479000c2a3422f9e9e10de7f4e7d92",
            "placeholder": "​",
            "style": "IPY_MODEL_6b668ef57599422cad43100af6d72c2e",
            "value": " 456k/456k [00:00&lt;00:00, 935kB/s]"
          }
        },
        "4fe98a3ab4324caa9c86df595cca9121": {
          "model_module": "@jupyter-widgets/base",
          "model_name": "LayoutModel",
          "model_module_version": "1.2.0",
          "state": {
            "_model_module": "@jupyter-widgets/base",
            "_model_module_version": "1.2.0",
            "_model_name": "LayoutModel",
            "_view_count": null,
            "_view_module": "@jupyter-widgets/base",
            "_view_module_version": "1.2.0",
            "_view_name": "LayoutView",
            "align_content": null,
            "align_items": null,
            "align_self": null,
            "border": null,
            "bottom": null,
            "display": null,
            "flex": null,
            "flex_flow": null,
            "grid_area": null,
            "grid_auto_columns": null,
            "grid_auto_flow": null,
            "grid_auto_rows": null,
            "grid_column": null,
            "grid_gap": null,
            "grid_row": null,
            "grid_template_areas": null,
            "grid_template_columns": null,
            "grid_template_rows": null,
            "height": null,
            "justify_content": null,
            "justify_items": null,
            "left": null,
            "margin": null,
            "max_height": null,
            "max_width": null,
            "min_height": null,
            "min_width": null,
            "object_fit": null,
            "object_position": null,
            "order": null,
            "overflow": null,
            "overflow_x": null,
            "overflow_y": null,
            "padding": null,
            "right": null,
            "top": null,
            "visibility": null,
            "width": null
          }
        },
        "3dd63d6002d942f79eb6db09ed6ef15c": {
          "model_module": "@jupyter-widgets/base",
          "model_name": "LayoutModel",
          "model_module_version": "1.2.0",
          "state": {
            "_model_module": "@jupyter-widgets/base",
            "_model_module_version": "1.2.0",
            "_model_name": "LayoutModel",
            "_view_count": null,
            "_view_module": "@jupyter-widgets/base",
            "_view_module_version": "1.2.0",
            "_view_name": "LayoutView",
            "align_content": null,
            "align_items": null,
            "align_self": null,
            "border": null,
            "bottom": null,
            "display": null,
            "flex": null,
            "flex_flow": null,
            "grid_area": null,
            "grid_auto_columns": null,
            "grid_auto_flow": null,
            "grid_auto_rows": null,
            "grid_column": null,
            "grid_gap": null,
            "grid_row": null,
            "grid_template_areas": null,
            "grid_template_columns": null,
            "grid_template_rows": null,
            "height": null,
            "justify_content": null,
            "justify_items": null,
            "left": null,
            "margin": null,
            "max_height": null,
            "max_width": null,
            "min_height": null,
            "min_width": null,
            "object_fit": null,
            "object_position": null,
            "order": null,
            "overflow": null,
            "overflow_x": null,
            "overflow_y": null,
            "padding": null,
            "right": null,
            "top": null,
            "visibility": null,
            "width": null
          }
        },
        "a765156dd48746a1bfbb70b67e9b238e": {
          "model_module": "@jupyter-widgets/controls",
          "model_name": "DescriptionStyleModel",
          "model_module_version": "1.5.0",
          "state": {
            "_model_module": "@jupyter-widgets/controls",
            "_model_module_version": "1.5.0",
            "_model_name": "DescriptionStyleModel",
            "_view_count": null,
            "_view_module": "@jupyter-widgets/base",
            "_view_module_version": "1.2.0",
            "_view_name": "StyleView",
            "description_width": ""
          }
        },
        "284095b5439246f0a180cbb1f49b3353": {
          "model_module": "@jupyter-widgets/base",
          "model_name": "LayoutModel",
          "model_module_version": "1.2.0",
          "state": {
            "_model_module": "@jupyter-widgets/base",
            "_model_module_version": "1.2.0",
            "_model_name": "LayoutModel",
            "_view_count": null,
            "_view_module": "@jupyter-widgets/base",
            "_view_module_version": "1.2.0",
            "_view_name": "LayoutView",
            "align_content": null,
            "align_items": null,
            "align_self": null,
            "border": null,
            "bottom": null,
            "display": null,
            "flex": null,
            "flex_flow": null,
            "grid_area": null,
            "grid_auto_columns": null,
            "grid_auto_flow": null,
            "grid_auto_rows": null,
            "grid_column": null,
            "grid_gap": null,
            "grid_row": null,
            "grid_template_areas": null,
            "grid_template_columns": null,
            "grid_template_rows": null,
            "height": null,
            "justify_content": null,
            "justify_items": null,
            "left": null,
            "margin": null,
            "max_height": null,
            "max_width": null,
            "min_height": null,
            "min_width": null,
            "object_fit": null,
            "object_position": null,
            "order": null,
            "overflow": null,
            "overflow_x": null,
            "overflow_y": null,
            "padding": null,
            "right": null,
            "top": null,
            "visibility": null,
            "width": null
          }
        },
        "3d12d63256d844e18a99ac13894bad9e": {
          "model_module": "@jupyter-widgets/controls",
          "model_name": "ProgressStyleModel",
          "model_module_version": "1.5.0",
          "state": {
            "_model_module": "@jupyter-widgets/controls",
            "_model_module_version": "1.5.0",
            "_model_name": "ProgressStyleModel",
            "_view_count": null,
            "_view_module": "@jupyter-widgets/base",
            "_view_module_version": "1.2.0",
            "_view_name": "StyleView",
            "bar_color": null,
            "description_width": ""
          }
        },
        "f8479000c2a3422f9e9e10de7f4e7d92": {
          "model_module": "@jupyter-widgets/base",
          "model_name": "LayoutModel",
          "model_module_version": "1.2.0",
          "state": {
            "_model_module": "@jupyter-widgets/base",
            "_model_module_version": "1.2.0",
            "_model_name": "LayoutModel",
            "_view_count": null,
            "_view_module": "@jupyter-widgets/base",
            "_view_module_version": "1.2.0",
            "_view_name": "LayoutView",
            "align_content": null,
            "align_items": null,
            "align_self": null,
            "border": null,
            "bottom": null,
            "display": null,
            "flex": null,
            "flex_flow": null,
            "grid_area": null,
            "grid_auto_columns": null,
            "grid_auto_flow": null,
            "grid_auto_rows": null,
            "grid_column": null,
            "grid_gap": null,
            "grid_row": null,
            "grid_template_areas": null,
            "grid_template_columns": null,
            "grid_template_rows": null,
            "height": null,
            "justify_content": null,
            "justify_items": null,
            "left": null,
            "margin": null,
            "max_height": null,
            "max_width": null,
            "min_height": null,
            "min_width": null,
            "object_fit": null,
            "object_position": null,
            "order": null,
            "overflow": null,
            "overflow_x": null,
            "overflow_y": null,
            "padding": null,
            "right": null,
            "top": null,
            "visibility": null,
            "width": null
          }
        },
        "6b668ef57599422cad43100af6d72c2e": {
          "model_module": "@jupyter-widgets/controls",
          "model_name": "DescriptionStyleModel",
          "model_module_version": "1.5.0",
          "state": {
            "_model_module": "@jupyter-widgets/controls",
            "_model_module_version": "1.5.0",
            "_model_name": "DescriptionStyleModel",
            "_view_count": null,
            "_view_module": "@jupyter-widgets/base",
            "_view_module_version": "1.2.0",
            "_view_name": "StyleView",
            "description_width": ""
          }
        },
        "422cadfa009b42dd96326c25cc4cf822": {
          "model_module": "@jupyter-widgets/controls",
          "model_name": "HBoxModel",
          "model_module_version": "1.5.0",
          "state": {
            "_dom_classes": [],
            "_model_module": "@jupyter-widgets/controls",
            "_model_module_version": "1.5.0",
            "_model_name": "HBoxModel",
            "_view_count": null,
            "_view_module": "@jupyter-widgets/controls",
            "_view_module_version": "1.5.0",
            "_view_name": "HBoxView",
            "box_style": "",
            "children": [
              "IPY_MODEL_4947ce449119412cb9bf22d26a0a93de",
              "IPY_MODEL_0fe228765b134041aa8b2cd68446144b",
              "IPY_MODEL_9d961ca0fe074b5d804b6cf5c48a662a"
            ],
            "layout": "IPY_MODEL_7d852e7336c1473f92dff9bd83ac204e"
          }
        },
        "4947ce449119412cb9bf22d26a0a93de": {
          "model_module": "@jupyter-widgets/controls",
          "model_name": "HTMLModel",
          "model_module_version": "1.5.0",
          "state": {
            "_dom_classes": [],
            "_model_module": "@jupyter-widgets/controls",
            "_model_module_version": "1.5.0",
            "_model_name": "HTMLModel",
            "_view_count": null,
            "_view_module": "@jupyter-widgets/controls",
            "_view_module_version": "1.5.0",
            "_view_name": "HTMLView",
            "description": "",
            "description_tooltip": null,
            "layout": "IPY_MODEL_aaa0fd6fe6c34670a4290fcbf6cf4b94",
            "placeholder": "​",
            "style": "IPY_MODEL_1c9bd13861a842b3925299c159bf0ab3",
            "value": "Downloading (…)/main/tokenizer.json: 100%"
          }
        },
        "0fe228765b134041aa8b2cd68446144b": {
          "model_module": "@jupyter-widgets/controls",
          "model_name": "FloatProgressModel",
          "model_module_version": "1.5.0",
          "state": {
            "_dom_classes": [],
            "_model_module": "@jupyter-widgets/controls",
            "_model_module_version": "1.5.0",
            "_model_name": "FloatProgressModel",
            "_view_count": null,
            "_view_module": "@jupyter-widgets/controls",
            "_view_module_version": "1.5.0",
            "_view_name": "ProgressView",
            "bar_style": "success",
            "description": "",
            "description_tooltip": null,
            "layout": "IPY_MODEL_5505be291e8843deb8e25c051d974e0d",
            "max": 1355863,
            "min": 0,
            "orientation": "horizontal",
            "style": "IPY_MODEL_35e7050f15a144baa1c6a4dc51293898",
            "value": 1355863
          }
        },
        "9d961ca0fe074b5d804b6cf5c48a662a": {
          "model_module": "@jupyter-widgets/controls",
          "model_name": "HTMLModel",
          "model_module_version": "1.5.0",
          "state": {
            "_dom_classes": [],
            "_model_module": "@jupyter-widgets/controls",
            "_model_module_version": "1.5.0",
            "_model_name": "HTMLModel",
            "_view_count": null,
            "_view_module": "@jupyter-widgets/controls",
            "_view_module_version": "1.5.0",
            "_view_name": "HTMLView",
            "description": "",
            "description_tooltip": null,
            "layout": "IPY_MODEL_553d3260de7941729a105f3340300534",
            "placeholder": "​",
            "style": "IPY_MODEL_4d5c7417caa54b64b622c9efd8e7ea18",
            "value": " 1.36M/1.36M [00:00&lt;00:00, 20.3MB/s]"
          }
        },
        "7d852e7336c1473f92dff9bd83ac204e": {
          "model_module": "@jupyter-widgets/base",
          "model_name": "LayoutModel",
          "model_module_version": "1.2.0",
          "state": {
            "_model_module": "@jupyter-widgets/base",
            "_model_module_version": "1.2.0",
            "_model_name": "LayoutModel",
            "_view_count": null,
            "_view_module": "@jupyter-widgets/base",
            "_view_module_version": "1.2.0",
            "_view_name": "LayoutView",
            "align_content": null,
            "align_items": null,
            "align_self": null,
            "border": null,
            "bottom": null,
            "display": null,
            "flex": null,
            "flex_flow": null,
            "grid_area": null,
            "grid_auto_columns": null,
            "grid_auto_flow": null,
            "grid_auto_rows": null,
            "grid_column": null,
            "grid_gap": null,
            "grid_row": null,
            "grid_template_areas": null,
            "grid_template_columns": null,
            "grid_template_rows": null,
            "height": null,
            "justify_content": null,
            "justify_items": null,
            "left": null,
            "margin": null,
            "max_height": null,
            "max_width": null,
            "min_height": null,
            "min_width": null,
            "object_fit": null,
            "object_position": null,
            "order": null,
            "overflow": null,
            "overflow_x": null,
            "overflow_y": null,
            "padding": null,
            "right": null,
            "top": null,
            "visibility": null,
            "width": null
          }
        },
        "aaa0fd6fe6c34670a4290fcbf6cf4b94": {
          "model_module": "@jupyter-widgets/base",
          "model_name": "LayoutModel",
          "model_module_version": "1.2.0",
          "state": {
            "_model_module": "@jupyter-widgets/base",
            "_model_module_version": "1.2.0",
            "_model_name": "LayoutModel",
            "_view_count": null,
            "_view_module": "@jupyter-widgets/base",
            "_view_module_version": "1.2.0",
            "_view_name": "LayoutView",
            "align_content": null,
            "align_items": null,
            "align_self": null,
            "border": null,
            "bottom": null,
            "display": null,
            "flex": null,
            "flex_flow": null,
            "grid_area": null,
            "grid_auto_columns": null,
            "grid_auto_flow": null,
            "grid_auto_rows": null,
            "grid_column": null,
            "grid_gap": null,
            "grid_row": null,
            "grid_template_areas": null,
            "grid_template_columns": null,
            "grid_template_rows": null,
            "height": null,
            "justify_content": null,
            "justify_items": null,
            "left": null,
            "margin": null,
            "max_height": null,
            "max_width": null,
            "min_height": null,
            "min_width": null,
            "object_fit": null,
            "object_position": null,
            "order": null,
            "overflow": null,
            "overflow_x": null,
            "overflow_y": null,
            "padding": null,
            "right": null,
            "top": null,
            "visibility": null,
            "width": null
          }
        },
        "1c9bd13861a842b3925299c159bf0ab3": {
          "model_module": "@jupyter-widgets/controls",
          "model_name": "DescriptionStyleModel",
          "model_module_version": "1.5.0",
          "state": {
            "_model_module": "@jupyter-widgets/controls",
            "_model_module_version": "1.5.0",
            "_model_name": "DescriptionStyleModel",
            "_view_count": null,
            "_view_module": "@jupyter-widgets/base",
            "_view_module_version": "1.2.0",
            "_view_name": "StyleView",
            "description_width": ""
          }
        },
        "5505be291e8843deb8e25c051d974e0d": {
          "model_module": "@jupyter-widgets/base",
          "model_name": "LayoutModel",
          "model_module_version": "1.2.0",
          "state": {
            "_model_module": "@jupyter-widgets/base",
            "_model_module_version": "1.2.0",
            "_model_name": "LayoutModel",
            "_view_count": null,
            "_view_module": "@jupyter-widgets/base",
            "_view_module_version": "1.2.0",
            "_view_name": "LayoutView",
            "align_content": null,
            "align_items": null,
            "align_self": null,
            "border": null,
            "bottom": null,
            "display": null,
            "flex": null,
            "flex_flow": null,
            "grid_area": null,
            "grid_auto_columns": null,
            "grid_auto_flow": null,
            "grid_auto_rows": null,
            "grid_column": null,
            "grid_gap": null,
            "grid_row": null,
            "grid_template_areas": null,
            "grid_template_columns": null,
            "grid_template_rows": null,
            "height": null,
            "justify_content": null,
            "justify_items": null,
            "left": null,
            "margin": null,
            "max_height": null,
            "max_width": null,
            "min_height": null,
            "min_width": null,
            "object_fit": null,
            "object_position": null,
            "order": null,
            "overflow": null,
            "overflow_x": null,
            "overflow_y": null,
            "padding": null,
            "right": null,
            "top": null,
            "visibility": null,
            "width": null
          }
        },
        "35e7050f15a144baa1c6a4dc51293898": {
          "model_module": "@jupyter-widgets/controls",
          "model_name": "ProgressStyleModel",
          "model_module_version": "1.5.0",
          "state": {
            "_model_module": "@jupyter-widgets/controls",
            "_model_module_version": "1.5.0",
            "_model_name": "ProgressStyleModel",
            "_view_count": null,
            "_view_module": "@jupyter-widgets/base",
            "_view_module_version": "1.2.0",
            "_view_name": "StyleView",
            "bar_color": null,
            "description_width": ""
          }
        },
        "553d3260de7941729a105f3340300534": {
          "model_module": "@jupyter-widgets/base",
          "model_name": "LayoutModel",
          "model_module_version": "1.2.0",
          "state": {
            "_model_module": "@jupyter-widgets/base",
            "_model_module_version": "1.2.0",
            "_model_name": "LayoutModel",
            "_view_count": null,
            "_view_module": "@jupyter-widgets/base",
            "_view_module_version": "1.2.0",
            "_view_name": "LayoutView",
            "align_content": null,
            "align_items": null,
            "align_self": null,
            "border": null,
            "bottom": null,
            "display": null,
            "flex": null,
            "flex_flow": null,
            "grid_area": null,
            "grid_auto_columns": null,
            "grid_auto_flow": null,
            "grid_auto_rows": null,
            "grid_column": null,
            "grid_gap": null,
            "grid_row": null,
            "grid_template_areas": null,
            "grid_template_columns": null,
            "grid_template_rows": null,
            "height": null,
            "justify_content": null,
            "justify_items": null,
            "left": null,
            "margin": null,
            "max_height": null,
            "max_width": null,
            "min_height": null,
            "min_width": null,
            "object_fit": null,
            "object_position": null,
            "order": null,
            "overflow": null,
            "overflow_x": null,
            "overflow_y": null,
            "padding": null,
            "right": null,
            "top": null,
            "visibility": null,
            "width": null
          }
        },
        "4d5c7417caa54b64b622c9efd8e7ea18": {
          "model_module": "@jupyter-widgets/controls",
          "model_name": "DescriptionStyleModel",
          "model_module_version": "1.5.0",
          "state": {
            "_model_module": "@jupyter-widgets/controls",
            "_model_module_version": "1.5.0",
            "_model_name": "DescriptionStyleModel",
            "_view_count": null,
            "_view_module": "@jupyter-widgets/base",
            "_view_module_version": "1.2.0",
            "_view_name": "StyleView",
            "description_width": ""
          }
        },
        "1f6937d20fb84492b9e527662878a96f": {
          "model_module": "@jupyter-widgets/controls",
          "model_name": "HBoxModel",
          "model_module_version": "1.5.0",
          "state": {
            "_dom_classes": [],
            "_model_module": "@jupyter-widgets/controls",
            "_model_module_version": "1.5.0",
            "_model_name": "HBoxModel",
            "_view_count": null,
            "_view_module": "@jupyter-widgets/controls",
            "_view_module_version": "1.5.0",
            "_view_name": "HBoxView",
            "box_style": "",
            "children": [
              "IPY_MODEL_4b8a40eb8220454ea91aba2af531d1aa",
              "IPY_MODEL_2eeb0da4e48b49888b77eb9bd4975b6d",
              "IPY_MODEL_cef55df8d86046f892403a41bb924b78"
            ],
            "layout": "IPY_MODEL_84ea9abf137a4c5d99558740b788f893"
          }
        },
        "4b8a40eb8220454ea91aba2af531d1aa": {
          "model_module": "@jupyter-widgets/controls",
          "model_name": "HTMLModel",
          "model_module_version": "1.5.0",
          "state": {
            "_dom_classes": [],
            "_model_module": "@jupyter-widgets/controls",
            "_model_module_version": "1.5.0",
            "_model_name": "HTMLModel",
            "_view_count": null,
            "_view_module": "@jupyter-widgets/controls",
            "_view_module_version": "1.5.0",
            "_view_name": "HTMLView",
            "description": "",
            "description_tooltip": null,
            "layout": "IPY_MODEL_f02e1d6c70f9407db61d1984a69c7f04",
            "placeholder": "​",
            "style": "IPY_MODEL_603e125e4f0e4e70b8d65884fab63abe",
            "value": "Downloading (…)lve/main/config.json: 100%"
          }
        },
        "2eeb0da4e48b49888b77eb9bd4975b6d": {
          "model_module": "@jupyter-widgets/controls",
          "model_name": "FloatProgressModel",
          "model_module_version": "1.5.0",
          "state": {
            "_dom_classes": [],
            "_model_module": "@jupyter-widgets/controls",
            "_model_module_version": "1.5.0",
            "_model_name": "FloatProgressModel",
            "_view_count": null,
            "_view_module": "@jupyter-widgets/controls",
            "_view_module_version": "1.5.0",
            "_view_name": "ProgressView",
            "bar_style": "success",
            "description": "",
            "description_tooltip": null,
            "layout": "IPY_MODEL_294ad31e40b248cd8c2f27e0a346cc1d",
            "max": 481,
            "min": 0,
            "orientation": "horizontal",
            "style": "IPY_MODEL_b1da4a9123034824b47a54579df3c166",
            "value": 481
          }
        },
        "cef55df8d86046f892403a41bb924b78": {
          "model_module": "@jupyter-widgets/controls",
          "model_name": "HTMLModel",
          "model_module_version": "1.5.0",
          "state": {
            "_dom_classes": [],
            "_model_module": "@jupyter-widgets/controls",
            "_model_module_version": "1.5.0",
            "_model_name": "HTMLModel",
            "_view_count": null,
            "_view_module": "@jupyter-widgets/controls",
            "_view_module_version": "1.5.0",
            "_view_name": "HTMLView",
            "description": "",
            "description_tooltip": null,
            "layout": "IPY_MODEL_a25024c42b134dde9e80fab392c52f25",
            "placeholder": "​",
            "style": "IPY_MODEL_6cee7e56aa86453ab942105769eca5d6",
            "value": " 481/481 [00:00&lt;00:00, 39.7kB/s]"
          }
        },
        "84ea9abf137a4c5d99558740b788f893": {
          "model_module": "@jupyter-widgets/base",
          "model_name": "LayoutModel",
          "model_module_version": "1.2.0",
          "state": {
            "_model_module": "@jupyter-widgets/base",
            "_model_module_version": "1.2.0",
            "_model_name": "LayoutModel",
            "_view_count": null,
            "_view_module": "@jupyter-widgets/base",
            "_view_module_version": "1.2.0",
            "_view_name": "LayoutView",
            "align_content": null,
            "align_items": null,
            "align_self": null,
            "border": null,
            "bottom": null,
            "display": null,
            "flex": null,
            "flex_flow": null,
            "grid_area": null,
            "grid_auto_columns": null,
            "grid_auto_flow": null,
            "grid_auto_rows": null,
            "grid_column": null,
            "grid_gap": null,
            "grid_row": null,
            "grid_template_areas": null,
            "grid_template_columns": null,
            "grid_template_rows": null,
            "height": null,
            "justify_content": null,
            "justify_items": null,
            "left": null,
            "margin": null,
            "max_height": null,
            "max_width": null,
            "min_height": null,
            "min_width": null,
            "object_fit": null,
            "object_position": null,
            "order": null,
            "overflow": null,
            "overflow_x": null,
            "overflow_y": null,
            "padding": null,
            "right": null,
            "top": null,
            "visibility": null,
            "width": null
          }
        },
        "f02e1d6c70f9407db61d1984a69c7f04": {
          "model_module": "@jupyter-widgets/base",
          "model_name": "LayoutModel",
          "model_module_version": "1.2.0",
          "state": {
            "_model_module": "@jupyter-widgets/base",
            "_model_module_version": "1.2.0",
            "_model_name": "LayoutModel",
            "_view_count": null,
            "_view_module": "@jupyter-widgets/base",
            "_view_module_version": "1.2.0",
            "_view_name": "LayoutView",
            "align_content": null,
            "align_items": null,
            "align_self": null,
            "border": null,
            "bottom": null,
            "display": null,
            "flex": null,
            "flex_flow": null,
            "grid_area": null,
            "grid_auto_columns": null,
            "grid_auto_flow": null,
            "grid_auto_rows": null,
            "grid_column": null,
            "grid_gap": null,
            "grid_row": null,
            "grid_template_areas": null,
            "grid_template_columns": null,
            "grid_template_rows": null,
            "height": null,
            "justify_content": null,
            "justify_items": null,
            "left": null,
            "margin": null,
            "max_height": null,
            "max_width": null,
            "min_height": null,
            "min_width": null,
            "object_fit": null,
            "object_position": null,
            "order": null,
            "overflow": null,
            "overflow_x": null,
            "overflow_y": null,
            "padding": null,
            "right": null,
            "top": null,
            "visibility": null,
            "width": null
          }
        },
        "603e125e4f0e4e70b8d65884fab63abe": {
          "model_module": "@jupyter-widgets/controls",
          "model_name": "DescriptionStyleModel",
          "model_module_version": "1.5.0",
          "state": {
            "_model_module": "@jupyter-widgets/controls",
            "_model_module_version": "1.5.0",
            "_model_name": "DescriptionStyleModel",
            "_view_count": null,
            "_view_module": "@jupyter-widgets/base",
            "_view_module_version": "1.2.0",
            "_view_name": "StyleView",
            "description_width": ""
          }
        },
        "294ad31e40b248cd8c2f27e0a346cc1d": {
          "model_module": "@jupyter-widgets/base",
          "model_name": "LayoutModel",
          "model_module_version": "1.2.0",
          "state": {
            "_model_module": "@jupyter-widgets/base",
            "_model_module_version": "1.2.0",
            "_model_name": "LayoutModel",
            "_view_count": null,
            "_view_module": "@jupyter-widgets/base",
            "_view_module_version": "1.2.0",
            "_view_name": "LayoutView",
            "align_content": null,
            "align_items": null,
            "align_self": null,
            "border": null,
            "bottom": null,
            "display": null,
            "flex": null,
            "flex_flow": null,
            "grid_area": null,
            "grid_auto_columns": null,
            "grid_auto_flow": null,
            "grid_auto_rows": null,
            "grid_column": null,
            "grid_gap": null,
            "grid_row": null,
            "grid_template_areas": null,
            "grid_template_columns": null,
            "grid_template_rows": null,
            "height": null,
            "justify_content": null,
            "justify_items": null,
            "left": null,
            "margin": null,
            "max_height": null,
            "max_width": null,
            "min_height": null,
            "min_width": null,
            "object_fit": null,
            "object_position": null,
            "order": null,
            "overflow": null,
            "overflow_x": null,
            "overflow_y": null,
            "padding": null,
            "right": null,
            "top": null,
            "visibility": null,
            "width": null
          }
        },
        "b1da4a9123034824b47a54579df3c166": {
          "model_module": "@jupyter-widgets/controls",
          "model_name": "ProgressStyleModel",
          "model_module_version": "1.5.0",
          "state": {
            "_model_module": "@jupyter-widgets/controls",
            "_model_module_version": "1.5.0",
            "_model_name": "ProgressStyleModel",
            "_view_count": null,
            "_view_module": "@jupyter-widgets/base",
            "_view_module_version": "1.2.0",
            "_view_name": "StyleView",
            "bar_color": null,
            "description_width": ""
          }
        },
        "a25024c42b134dde9e80fab392c52f25": {
          "model_module": "@jupyter-widgets/base",
          "model_name": "LayoutModel",
          "model_module_version": "1.2.0",
          "state": {
            "_model_module": "@jupyter-widgets/base",
            "_model_module_version": "1.2.0",
            "_model_name": "LayoutModel",
            "_view_count": null,
            "_view_module": "@jupyter-widgets/base",
            "_view_module_version": "1.2.0",
            "_view_name": "LayoutView",
            "align_content": null,
            "align_items": null,
            "align_self": null,
            "border": null,
            "bottom": null,
            "display": null,
            "flex": null,
            "flex_flow": null,
            "grid_area": null,
            "grid_auto_columns": null,
            "grid_auto_flow": null,
            "grid_auto_rows": null,
            "grid_column": null,
            "grid_gap": null,
            "grid_row": null,
            "grid_template_areas": null,
            "grid_template_columns": null,
            "grid_template_rows": null,
            "height": null,
            "justify_content": null,
            "justify_items": null,
            "left": null,
            "margin": null,
            "max_height": null,
            "max_width": null,
            "min_height": null,
            "min_width": null,
            "object_fit": null,
            "object_position": null,
            "order": null,
            "overflow": null,
            "overflow_x": null,
            "overflow_y": null,
            "padding": null,
            "right": null,
            "top": null,
            "visibility": null,
            "width": null
          }
        },
        "6cee7e56aa86453ab942105769eca5d6": {
          "model_module": "@jupyter-widgets/controls",
          "model_name": "DescriptionStyleModel",
          "model_module_version": "1.5.0",
          "state": {
            "_model_module": "@jupyter-widgets/controls",
            "_model_module_version": "1.5.0",
            "_model_name": "DescriptionStyleModel",
            "_view_count": null,
            "_view_module": "@jupyter-widgets/base",
            "_view_module_version": "1.2.0",
            "_view_name": "StyleView",
            "description_width": ""
          }
        },
        "3a77c3583e5d49c992c920e374b5e823": {
          "model_module": "@jupyter-widgets/controls",
          "model_name": "HBoxModel",
          "model_module_version": "1.5.0",
          "state": {
            "_dom_classes": [],
            "_model_module": "@jupyter-widgets/controls",
            "_model_module_version": "1.5.0",
            "_model_name": "HBoxModel",
            "_view_count": null,
            "_view_module": "@jupyter-widgets/controls",
            "_view_module_version": "1.5.0",
            "_view_name": "HBoxView",
            "box_style": "",
            "children": [
              "IPY_MODEL_d3ff25be75184adb9057d20ee5c14613",
              "IPY_MODEL_1fe4ab46d8b14aa59dc47201f73196be",
              "IPY_MODEL_43f6cebc36b64edea53f49ba0e5d9136"
            ],
            "layout": "IPY_MODEL_ae6e1b7734ca4fe0930b6d24354248ea"
          }
        },
        "d3ff25be75184adb9057d20ee5c14613": {
          "model_module": "@jupyter-widgets/controls",
          "model_name": "HTMLModel",
          "model_module_version": "1.5.0",
          "state": {
            "_dom_classes": [],
            "_model_module": "@jupyter-widgets/controls",
            "_model_module_version": "1.5.0",
            "_model_name": "HTMLModel",
            "_view_count": null,
            "_view_module": "@jupyter-widgets/controls",
            "_view_module_version": "1.5.0",
            "_view_name": "HTMLView",
            "description": "",
            "description_tooltip": null,
            "layout": "IPY_MODEL_7ed22345e60f41f3a2365723e0941e0c",
            "placeholder": "​",
            "style": "IPY_MODEL_6e8e614b4b66474bb6c51601180eebf7",
            "value": "Downloading model.safetensors: 100%"
          }
        },
        "1fe4ab46d8b14aa59dc47201f73196be": {
          "model_module": "@jupyter-widgets/controls",
          "model_name": "FloatProgressModel",
          "model_module_version": "1.5.0",
          "state": {
            "_dom_classes": [],
            "_model_module": "@jupyter-widgets/controls",
            "_model_module_version": "1.5.0",
            "_model_name": "FloatProgressModel",
            "_view_count": null,
            "_view_module": "@jupyter-widgets/controls",
            "_view_module_version": "1.5.0",
            "_view_name": "ProgressView",
            "bar_style": "success",
            "description": "",
            "description_tooltip": null,
            "layout": "IPY_MODEL_1de6b98f1b094ab8ad57a473769ce32f",
            "max": 498818054,
            "min": 0,
            "orientation": "horizontal",
            "style": "IPY_MODEL_6ebef9945a044e55a46d489fcbe805f1",
            "value": 498818054
          }
        },
        "43f6cebc36b64edea53f49ba0e5d9136": {
          "model_module": "@jupyter-widgets/controls",
          "model_name": "HTMLModel",
          "model_module_version": "1.5.0",
          "state": {
            "_dom_classes": [],
            "_model_module": "@jupyter-widgets/controls",
            "_model_module_version": "1.5.0",
            "_model_name": "HTMLModel",
            "_view_count": null,
            "_view_module": "@jupyter-widgets/controls",
            "_view_module_version": "1.5.0",
            "_view_name": "HTMLView",
            "description": "",
            "description_tooltip": null,
            "layout": "IPY_MODEL_3d74b69a249d43b2b9639086fdb0cdf0",
            "placeholder": "​",
            "style": "IPY_MODEL_344e18b7d3c44059abcf1feea88db871",
            "value": " 499M/499M [00:05&lt;00:00, 39.2MB/s]"
          }
        },
        "ae6e1b7734ca4fe0930b6d24354248ea": {
          "model_module": "@jupyter-widgets/base",
          "model_name": "LayoutModel",
          "model_module_version": "1.2.0",
          "state": {
            "_model_module": "@jupyter-widgets/base",
            "_model_module_version": "1.2.0",
            "_model_name": "LayoutModel",
            "_view_count": null,
            "_view_module": "@jupyter-widgets/base",
            "_view_module_version": "1.2.0",
            "_view_name": "LayoutView",
            "align_content": null,
            "align_items": null,
            "align_self": null,
            "border": null,
            "bottom": null,
            "display": null,
            "flex": null,
            "flex_flow": null,
            "grid_area": null,
            "grid_auto_columns": null,
            "grid_auto_flow": null,
            "grid_auto_rows": null,
            "grid_column": null,
            "grid_gap": null,
            "grid_row": null,
            "grid_template_areas": null,
            "grid_template_columns": null,
            "grid_template_rows": null,
            "height": null,
            "justify_content": null,
            "justify_items": null,
            "left": null,
            "margin": null,
            "max_height": null,
            "max_width": null,
            "min_height": null,
            "min_width": null,
            "object_fit": null,
            "object_position": null,
            "order": null,
            "overflow": null,
            "overflow_x": null,
            "overflow_y": null,
            "padding": null,
            "right": null,
            "top": null,
            "visibility": null,
            "width": null
          }
        },
        "7ed22345e60f41f3a2365723e0941e0c": {
          "model_module": "@jupyter-widgets/base",
          "model_name": "LayoutModel",
          "model_module_version": "1.2.0",
          "state": {
            "_model_module": "@jupyter-widgets/base",
            "_model_module_version": "1.2.0",
            "_model_name": "LayoutModel",
            "_view_count": null,
            "_view_module": "@jupyter-widgets/base",
            "_view_module_version": "1.2.0",
            "_view_name": "LayoutView",
            "align_content": null,
            "align_items": null,
            "align_self": null,
            "border": null,
            "bottom": null,
            "display": null,
            "flex": null,
            "flex_flow": null,
            "grid_area": null,
            "grid_auto_columns": null,
            "grid_auto_flow": null,
            "grid_auto_rows": null,
            "grid_column": null,
            "grid_gap": null,
            "grid_row": null,
            "grid_template_areas": null,
            "grid_template_columns": null,
            "grid_template_rows": null,
            "height": null,
            "justify_content": null,
            "justify_items": null,
            "left": null,
            "margin": null,
            "max_height": null,
            "max_width": null,
            "min_height": null,
            "min_width": null,
            "object_fit": null,
            "object_position": null,
            "order": null,
            "overflow": null,
            "overflow_x": null,
            "overflow_y": null,
            "padding": null,
            "right": null,
            "top": null,
            "visibility": null,
            "width": null
          }
        },
        "6e8e614b4b66474bb6c51601180eebf7": {
          "model_module": "@jupyter-widgets/controls",
          "model_name": "DescriptionStyleModel",
          "model_module_version": "1.5.0",
          "state": {
            "_model_module": "@jupyter-widgets/controls",
            "_model_module_version": "1.5.0",
            "_model_name": "DescriptionStyleModel",
            "_view_count": null,
            "_view_module": "@jupyter-widgets/base",
            "_view_module_version": "1.2.0",
            "_view_name": "StyleView",
            "description_width": ""
          }
        },
        "1de6b98f1b094ab8ad57a473769ce32f": {
          "model_module": "@jupyter-widgets/base",
          "model_name": "LayoutModel",
          "model_module_version": "1.2.0",
          "state": {
            "_model_module": "@jupyter-widgets/base",
            "_model_module_version": "1.2.0",
            "_model_name": "LayoutModel",
            "_view_count": null,
            "_view_module": "@jupyter-widgets/base",
            "_view_module_version": "1.2.0",
            "_view_name": "LayoutView",
            "align_content": null,
            "align_items": null,
            "align_self": null,
            "border": null,
            "bottom": null,
            "display": null,
            "flex": null,
            "flex_flow": null,
            "grid_area": null,
            "grid_auto_columns": null,
            "grid_auto_flow": null,
            "grid_auto_rows": null,
            "grid_column": null,
            "grid_gap": null,
            "grid_row": null,
            "grid_template_areas": null,
            "grid_template_columns": null,
            "grid_template_rows": null,
            "height": null,
            "justify_content": null,
            "justify_items": null,
            "left": null,
            "margin": null,
            "max_height": null,
            "max_width": null,
            "min_height": null,
            "min_width": null,
            "object_fit": null,
            "object_position": null,
            "order": null,
            "overflow": null,
            "overflow_x": null,
            "overflow_y": null,
            "padding": null,
            "right": null,
            "top": null,
            "visibility": null,
            "width": null
          }
        },
        "6ebef9945a044e55a46d489fcbe805f1": {
          "model_module": "@jupyter-widgets/controls",
          "model_name": "ProgressStyleModel",
          "model_module_version": "1.5.0",
          "state": {
            "_model_module": "@jupyter-widgets/controls",
            "_model_module_version": "1.5.0",
            "_model_name": "ProgressStyleModel",
            "_view_count": null,
            "_view_module": "@jupyter-widgets/base",
            "_view_module_version": "1.2.0",
            "_view_name": "StyleView",
            "bar_color": null,
            "description_width": ""
          }
        },
        "3d74b69a249d43b2b9639086fdb0cdf0": {
          "model_module": "@jupyter-widgets/base",
          "model_name": "LayoutModel",
          "model_module_version": "1.2.0",
          "state": {
            "_model_module": "@jupyter-widgets/base",
            "_model_module_version": "1.2.0",
            "_model_name": "LayoutModel",
            "_view_count": null,
            "_view_module": "@jupyter-widgets/base",
            "_view_module_version": "1.2.0",
            "_view_name": "LayoutView",
            "align_content": null,
            "align_items": null,
            "align_self": null,
            "border": null,
            "bottom": null,
            "display": null,
            "flex": null,
            "flex_flow": null,
            "grid_area": null,
            "grid_auto_columns": null,
            "grid_auto_flow": null,
            "grid_auto_rows": null,
            "grid_column": null,
            "grid_gap": null,
            "grid_row": null,
            "grid_template_areas": null,
            "grid_template_columns": null,
            "grid_template_rows": null,
            "height": null,
            "justify_content": null,
            "justify_items": null,
            "left": null,
            "margin": null,
            "max_height": null,
            "max_width": null,
            "min_height": null,
            "min_width": null,
            "object_fit": null,
            "object_position": null,
            "order": null,
            "overflow": null,
            "overflow_x": null,
            "overflow_y": null,
            "padding": null,
            "right": null,
            "top": null,
            "visibility": null,
            "width": null
          }
        },
        "344e18b7d3c44059abcf1feea88db871": {
          "model_module": "@jupyter-widgets/controls",
          "model_name": "DescriptionStyleModel",
          "model_module_version": "1.5.0",
          "state": {
            "_model_module": "@jupyter-widgets/controls",
            "_model_module_version": "1.5.0",
            "_model_name": "DescriptionStyleModel",
            "_view_count": null,
            "_view_module": "@jupyter-widgets/base",
            "_view_module_version": "1.2.0",
            "_view_name": "StyleView",
            "description_width": ""
          }
        }
      }
    }
  },
  "cells": [
    {
      "cell_type": "markdown",
      "source": [
        "# Sarcasm Detection on SARC_v2 dataset using RoBERTa"
      ],
      "metadata": {
        "id": "rK9AIeuvi11W"
      }
    },
    {
      "cell_type": "markdown",
      "source": [
        "![The-proposed-RCNN-RoBERTa-methodology-consisting-of-a-RoBERTa-pre-trained-transformer.png](data:image/png;base64,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)"
      ],
      "metadata": {
        "id": "pZC6H7oIqFkr"
      }
    },
    {
      "cell_type": "markdown",
      "source": [
        "### Prepare Dataset\n",
        " * Go to https://drive.google.com/drive/folders/1dzF__PeMXuGq29NSbLbvvHV5hE6dlz5J?usp=sharing\n",
        " * Download train-balanced-sarcasm.csv\n",
        " * In Google Drive, create a folder named `Sarcasm_Detection` and keep the sarcasm_v2 folder inside that.\n",
        " * The path for the dataset should be `drive/My Drive/Sarcasm_Detection/sarcasm_v2/`\n",
        "\n",
        "*Notes:*\n",
        "* The original SARC dataset: https://nlp.cs.princeton.edu/old/SARC/2.0/main/\n",
        "* Pre-processed and clean dataset (collected): https://www.kaggle.com/datasets/danofer/sarcasm?resource=download&select=train-balanced-sarcasm.csv (large)\n",
        "* Small sarcasm v2 dataset: `sarcasm_v2/*` https://nlds.soe.ucsc.edu/sarcasm2"
      ],
      "metadata": {
        "id": "3SDZLWboh3rG"
      }
    },
    {
      "cell_type": "code",
      "source": [
        "import warnings\n",
        "warnings.filterwarnings(\"ignore\")"
      ],
      "metadata": {
        "id": "GM3ny2IDfuNF"
      },
      "execution_count": 1,
      "outputs": []
    },
    {
      "cell_type": "markdown",
      "source": [
        "#### Install dependencies"
      ],
      "metadata": {
        "id": "S0U4M1MpjIvW"
      }
    },
    {
      "cell_type": "code",
      "source": [
        "! pip install transformers"
      ],
      "metadata": {
        "colab": {
          "base_uri": "https://localhost:8080/"
        },
        "id": "iYjh7XSfjHWF",
        "outputId": "78775b8e-f8d0-4722-fd83-26cddce27a2d"
      },
      "execution_count": 2,
      "outputs": [
        {
          "output_type": "stream",
          "name": "stdout",
          "text": [
            "Requirement already satisfied: transformers in /usr/local/lib/python3.10/dist-packages (4.34.0)\n",
            "Requirement already satisfied: filelock in /usr/local/lib/python3.10/dist-packages (from transformers) (3.12.4)\n",
            "Requirement already satisfied: huggingface-hub<1.0,>=0.16.4 in /usr/local/lib/python3.10/dist-packages (from transformers) (0.17.3)\n",
            "Requirement already satisfied: numpy>=1.17 in /usr/local/lib/python3.10/dist-packages (from transformers) (1.23.5)\n",
            "Requirement already satisfied: packaging>=20.0 in /usr/local/lib/python3.10/dist-packages (from transformers) (23.2)\n",
            "Requirement already satisfied: pyyaml>=5.1 in /usr/local/lib/python3.10/dist-packages (from transformers) (6.0.1)\n",
            "Requirement already satisfied: regex!=2019.12.17 in /usr/local/lib/python3.10/dist-packages (from transformers) (2023.6.3)\n",
            "Requirement already satisfied: requests in /usr/local/lib/python3.10/dist-packages (from transformers) (2.31.0)\n",
            "Requirement already satisfied: tokenizers<0.15,>=0.14 in /usr/local/lib/python3.10/dist-packages (from transformers) (0.14.1)\n",
            "Requirement already satisfied: safetensors>=0.3.1 in /usr/local/lib/python3.10/dist-packages (from transformers) (0.4.0)\n",
            "Requirement already satisfied: tqdm>=4.27 in /usr/local/lib/python3.10/dist-packages (from transformers) (4.66.1)\n",
            "Requirement already satisfied: fsspec in /usr/local/lib/python3.10/dist-packages (from huggingface-hub<1.0,>=0.16.4->transformers) (2023.6.0)\n",
            "Requirement already satisfied: typing-extensions>=3.7.4.3 in /usr/local/lib/python3.10/dist-packages (from huggingface-hub<1.0,>=0.16.4->transformers) (4.5.0)\n",
            "Requirement already satisfied: charset-normalizer<4,>=2 in /usr/local/lib/python3.10/dist-packages (from requests->transformers) (3.3.0)\n",
            "Requirement already satisfied: idna<4,>=2.5 in /usr/local/lib/python3.10/dist-packages (from requests->transformers) (3.4)\n",
            "Requirement already satisfied: urllib3<3,>=1.21.1 in /usr/local/lib/python3.10/dist-packages (from requests->transformers) (2.0.6)\n",
            "Requirement already satisfied: certifi>=2017.4.17 in /usr/local/lib/python3.10/dist-packages (from requests->transformers) (2023.7.22)\n"
          ]
        }
      ]
    },
    {
      "cell_type": "markdown",
      "source": [
        "##### Load dataset from Google Drive"
      ],
      "metadata": {
        "id": "vgxzsiL4jl6P"
      }
    },
    {
      "cell_type": "code",
      "source": [
        "from google.colab import drive\n",
        "drive.mount('/content/drive')"
      ],
      "metadata": {
        "colab": {
          "base_uri": "https://localhost:8080/"
        },
        "id": "Rv-o8r109ceq",
        "outputId": "ef03dce4-6fed-45ce-9b04-e12a4c7b0051"
      },
      "execution_count": 3,
      "outputs": [
        {
          "output_type": "stream",
          "name": "stdout",
          "text": [
            "Drive already mounted at /content/drive; to attempt to forcibly remount, call drive.mount(\"/content/drive\", force_remount=True).\n"
          ]
        }
      ]
    },
    {
      "cell_type": "markdown",
      "source": [
        "#### Datasets\n",
        "* We can use 4 datasets. To change a dataset we just have to replace the SARC_dataset_path string to the corresponding dataset path.\n",
        "* First make sure, you download https://drive.google.com/drive/folders/1dzF__PeMXuGq29NSbLbvvHV5hE6dlz5J?usp=sharing the `Sarcasm_Detection` folder and upload to your Google drive.\n",
        "\n",
        "*The datasets are:*\n",
        " * `SARC_dataset_path = \"drive/My Drive/Sarcasm_Detection/sarcasm_v2/GEN-sarc-notsarc.csv\"`\n",
        " * `SARC_dataset_path = \"drive/My Drive/Sarcasm_Detection/sarcasm_v2/HYP-sarc-notsarc.csv\"`\n",
        " * `SARC_dataset_path = \"drive/My Drive/Sarcasm_Detection/sarcasm_v2/RQ-sarc-notsarc.csv\"`\n",
        " * `SARC_dataset_path = \"drive/My Drive/Sarcasm_Detection/train-balanced-sarcasm.csv\"`"
      ],
      "metadata": {
        "id": "oQDrWulkjdnq"
      }
    },
    {
      "cell_type": "code",
      "source": [
        "SARC_dataset_path = \"drive/My Drive/GEN-sarc-notsarc.csv\""
      ],
      "metadata": {
        "id": "eFedpqrrX4Wl"
      },
      "execution_count": 6,
      "outputs": []
    },
    {
      "cell_type": "code",
      "source": [
        "import pandas as pd\n",
        "SARC_df = pd.read_csv(SARC_dataset_path)"
      ],
      "metadata": {
        "id": "VVj1CB3rYo5s"
      },
      "execution_count": 7,
      "outputs": []
    },
    {
      "cell_type": "code",
      "source": [
        "SARC_df.head()"
      ],
      "metadata": {
        "colab": {
          "base_uri": "https://localhost:8080/",
          "height": 206
        },
        "id": "Qt2Pu_zhYu3T",
        "outputId": "f799009f-ac09-44eb-ccb1-3f71ba4395d0"
      },
      "execution_count": 8,
      "outputs": [
        {
          "output_type": "execute_result",
          "data": {
            "text/plain": [
              "     class  id                                               text\n",
              "0  notsarc   1  If that's true, then Freedom of Speech is doom...\n",
              "1  notsarc   2  Neener neener - is it time to go in from the p...\n",
              "2  notsarc   3  Just like the plastic gun fear, the armour pie...\n",
              "3  notsarc   4  So geology is a religion because we weren't he...\n",
              "4  notsarc   5  Well done Monty. Mark that up as your first ev..."
            ],
            "text/html": [
              "\n",
              "  <div id=\"df-48edcf22-3944-4e9a-9993-6e23f9a1b38e\" class=\"colab-df-container\">\n",
              "    <div>\n",
              "<style scoped>\n",
              "    .dataframe tbody tr th:only-of-type {\n",
              "        vertical-align: middle;\n",
              "    }\n",
              "\n",
              "    .dataframe tbody tr th {\n",
              "        vertical-align: top;\n",
              "    }\n",
              "\n",
              "    .dataframe thead th {\n",
              "        text-align: right;\n",
              "    }\n",
              "</style>\n",
              "<table border=\"1\" class=\"dataframe\">\n",
              "  <thead>\n",
              "    <tr style=\"text-align: right;\">\n",
              "      <th></th>\n",
              "      <th>class</th>\n",
              "      <th>id</th>\n",
              "      <th>text</th>\n",
              "    </tr>\n",
              "  </thead>\n",
              "  <tbody>\n",
              "    <tr>\n",
              "      <th>0</th>\n",
              "      <td>notsarc</td>\n",
              "      <td>1</td>\n",
              "      <td>If that's true, then Freedom of Speech is doom...</td>\n",
              "    </tr>\n",
              "    <tr>\n",
              "      <th>1</th>\n",
              "      <td>notsarc</td>\n",
              "      <td>2</td>\n",
              "      <td>Neener neener - is it time to go in from the p...</td>\n",
              "    </tr>\n",
              "    <tr>\n",
              "      <th>2</th>\n",
              "      <td>notsarc</td>\n",
              "      <td>3</td>\n",
              "      <td>Just like the plastic gun fear, the armour pie...</td>\n",
              "    </tr>\n",
              "    <tr>\n",
              "      <th>3</th>\n",
              "      <td>notsarc</td>\n",
              "      <td>4</td>\n",
              "      <td>So geology is a religion because we weren't he...</td>\n",
              "    </tr>\n",
              "    <tr>\n",
              "      <th>4</th>\n",
              "      <td>notsarc</td>\n",
              "      <td>5</td>\n",
              "      <td>Well done Monty. Mark that up as your first ev...</td>\n",
              "    </tr>\n",
              "  </tbody>\n",
              "</table>\n",
              "</div>\n",
              "    <div class=\"colab-df-buttons\">\n",
              "\n",
              "  <div class=\"colab-df-container\">\n",
              "    <button class=\"colab-df-convert\" onclick=\"convertToInteractive('df-48edcf22-3944-4e9a-9993-6e23f9a1b38e')\"\n",
              "            title=\"Convert this dataframe to an interactive table.\"\n",
              "            style=\"display:none;\">\n",
              "\n",
              "  <svg xmlns=\"http://www.w3.org/2000/svg\" height=\"24px\" viewBox=\"0 -960 960 960\">\n",
              "    <path d=\"M120-120v-720h720v720H120Zm60-500h600v-160H180v160Zm220 220h160v-160H400v160Zm0 220h160v-160H400v160ZM180-400h160v-160H180v160Zm440 0h160v-160H620v160ZM180-180h160v-160H180v160Zm440 0h160v-160H620v160Z\"/>\n",
              "  </svg>\n",
              "    </button>\n",
              "\n",
              "  <style>\n",
              "    .colab-df-container {\n",
              "      display:flex;\n",
              "      gap: 12px;\n",
              "    }\n",
              "\n",
              "    .colab-df-convert {\n",
              "      background-color: #E8F0FE;\n",
              "      border: none;\n",
              "      border-radius: 50%;\n",
              "      cursor: pointer;\n",
              "      display: none;\n",
              "      fill: #1967D2;\n",
              "      height: 32px;\n",
              "      padding: 0 0 0 0;\n",
              "      width: 32px;\n",
              "    }\n",
              "\n",
              "    .colab-df-convert:hover {\n",
              "      background-color: #E2EBFA;\n",
              "      box-shadow: 0px 1px 2px rgba(60, 64, 67, 0.3), 0px 1px 3px 1px rgba(60, 64, 67, 0.15);\n",
              "      fill: #174EA6;\n",
              "    }\n",
              "\n",
              "    .colab-df-buttons div {\n",
              "      margin-bottom: 4px;\n",
              "    }\n",
              "\n",
              "    [theme=dark] .colab-df-convert {\n",
              "      background-color: #3B4455;\n",
              "      fill: #D2E3FC;\n",
              "    }\n",
              "\n",
              "    [theme=dark] .colab-df-convert:hover {\n",
              "      background-color: #434B5C;\n",
              "      box-shadow: 0px 1px 3px 1px rgba(0, 0, 0, 0.15);\n",
              "      filter: drop-shadow(0px 1px 2px rgba(0, 0, 0, 0.3));\n",
              "      fill: #FFFFFF;\n",
              "    }\n",
              "  </style>\n",
              "\n",
              "    <script>\n",
              "      const buttonEl =\n",
              "        document.querySelector('#df-48edcf22-3944-4e9a-9993-6e23f9a1b38e button.colab-df-convert');\n",
              "      buttonEl.style.display =\n",
              "        google.colab.kernel.accessAllowed ? 'block' : 'none';\n",
              "\n",
              "      async function convertToInteractive(key) {\n",
              "        const element = document.querySelector('#df-48edcf22-3944-4e9a-9993-6e23f9a1b38e');\n",
              "        const dataTable =\n",
              "          await google.colab.kernel.invokeFunction('convertToInteractive',\n",
              "                                                    [key], {});\n",
              "        if (!dataTable) return;\n",
              "\n",
              "        const docLinkHtml = 'Like what you see? Visit the ' +\n",
              "          '<a target=\"_blank\" href=https://colab.research.google.com/notebooks/data_table.ipynb>data table notebook</a>'\n",
              "          + ' to learn more about interactive tables.';\n",
              "        element.innerHTML = '';\n",
              "        dataTable['output_type'] = 'display_data';\n",
              "        await google.colab.output.renderOutput(dataTable, element);\n",
              "        const docLink = document.createElement('div');\n",
              "        docLink.innerHTML = docLinkHtml;\n",
              "        element.appendChild(docLink);\n",
              "      }\n",
              "    </script>\n",
              "  </div>\n",
              "\n",
              "\n",
              "<div id=\"df-ddf4ab6a-8fa3-4fe2-bae7-bb3b75933290\">\n",
              "  <button class=\"colab-df-quickchart\" onclick=\"quickchart('df-ddf4ab6a-8fa3-4fe2-bae7-bb3b75933290')\"\n",
              "            title=\"Suggest charts.\"\n",
              "            style=\"display:none;\">\n",
              "\n",
              "<svg xmlns=\"http://www.w3.org/2000/svg\" height=\"24px\"viewBox=\"0 0 24 24\"\n",
              "     width=\"24px\">\n",
              "    <g>\n",
              "        <path d=\"M19 3H5c-1.1 0-2 .9-2 2v14c0 1.1.9 2 2 2h14c1.1 0 2-.9 2-2V5c0-1.1-.9-2-2-2zM9 17H7v-7h2v7zm4 0h-2V7h2v10zm4 0h-2v-4h2v4z\"/>\n",
              "    </g>\n",
              "</svg>\n",
              "  </button>\n",
              "\n",
              "<style>\n",
              "  .colab-df-quickchart {\n",
              "      --bg-color: #E8F0FE;\n",
              "      --fill-color: #1967D2;\n",
              "      --hover-bg-color: #E2EBFA;\n",
              "      --hover-fill-color: #174EA6;\n",
              "      --disabled-fill-color: #AAA;\n",
              "      --disabled-bg-color: #DDD;\n",
              "  }\n",
              "\n",
              "  [theme=dark] .colab-df-quickchart {\n",
              "      --bg-color: #3B4455;\n",
              "      --fill-color: #D2E3FC;\n",
              "      --hover-bg-color: #434B5C;\n",
              "      --hover-fill-color: #FFFFFF;\n",
              "      --disabled-bg-color: #3B4455;\n",
              "      --disabled-fill-color: #666;\n",
              "  }\n",
              "\n",
              "  .colab-df-quickchart {\n",
              "    background-color: var(--bg-color);\n",
              "    border: none;\n",
              "    border-radius: 50%;\n",
              "    cursor: pointer;\n",
              "    display: none;\n",
              "    fill: var(--fill-color);\n",
              "    height: 32px;\n",
              "    padding: 0;\n",
              "    width: 32px;\n",
              "  }\n",
              "\n",
              "  .colab-df-quickchart:hover {\n",
              "    background-color: var(--hover-bg-color);\n",
              "    box-shadow: 0 1px 2px rgba(60, 64, 67, 0.3), 0 1px 3px 1px rgba(60, 64, 67, 0.15);\n",
              "    fill: var(--button-hover-fill-color);\n",
              "  }\n",
              "\n",
              "  .colab-df-quickchart-complete:disabled,\n",
              "  .colab-df-quickchart-complete:disabled:hover {\n",
              "    background-color: var(--disabled-bg-color);\n",
              "    fill: var(--disabled-fill-color);\n",
              "    box-shadow: none;\n",
              "  }\n",
              "\n",
              "  .colab-df-spinner {\n",
              "    border: 2px solid var(--fill-color);\n",
              "    border-color: transparent;\n",
              "    border-bottom-color: var(--fill-color);\n",
              "    animation:\n",
              "      spin 1s steps(1) infinite;\n",
              "  }\n",
              "\n",
              "  @keyframes spin {\n",
              "    0% {\n",
              "      border-color: transparent;\n",
              "      border-bottom-color: var(--fill-color);\n",
              "      border-left-color: var(--fill-color);\n",
              "    }\n",
              "    20% {\n",
              "      border-color: transparent;\n",
              "      border-left-color: var(--fill-color);\n",
              "      border-top-color: var(--fill-color);\n",
              "    }\n",
              "    30% {\n",
              "      border-color: transparent;\n",
              "      border-left-color: var(--fill-color);\n",
              "      border-top-color: var(--fill-color);\n",
              "      border-right-color: var(--fill-color);\n",
              "    }\n",
              "    40% {\n",
              "      border-color: transparent;\n",
              "      border-right-color: var(--fill-color);\n",
              "      border-top-color: var(--fill-color);\n",
              "    }\n",
              "    60% {\n",
              "      border-color: transparent;\n",
              "      border-right-color: var(--fill-color);\n",
              "    }\n",
              "    80% {\n",
              "      border-color: transparent;\n",
              "      border-right-color: var(--fill-color);\n",
              "      border-bottom-color: var(--fill-color);\n",
              "    }\n",
              "    90% {\n",
              "      border-color: transparent;\n",
              "      border-bottom-color: var(--fill-color);\n",
              "    }\n",
              "  }\n",
              "</style>\n",
              "\n",
              "  <script>\n",
              "    async function quickchart(key) {\n",
              "      const quickchartButtonEl =\n",
              "        document.querySelector('#' + key + ' button');\n",
              "      quickchartButtonEl.disabled = true;  // To prevent multiple clicks.\n",
              "      quickchartButtonEl.classList.add('colab-df-spinner');\n",
              "      try {\n",
              "        const charts = await google.colab.kernel.invokeFunction(\n",
              "            'suggestCharts', [key], {});\n",
              "      } catch (error) {\n",
              "        console.error('Error during call to suggestCharts:', error);\n",
              "      }\n",
              "      quickchartButtonEl.classList.remove('colab-df-spinner');\n",
              "      quickchartButtonEl.classList.add('colab-df-quickchart-complete');\n",
              "    }\n",
              "    (() => {\n",
              "      let quickchartButtonEl =\n",
              "        document.querySelector('#df-ddf4ab6a-8fa3-4fe2-bae7-bb3b75933290 button');\n",
              "      quickchartButtonEl.style.display =\n",
              "        google.colab.kernel.accessAllowed ? 'block' : 'none';\n",
              "    })();\n",
              "  </script>\n",
              "</div>\n",
              "    </div>\n",
              "  </div>\n"
            ]
          },
          "metadata": {},
          "execution_count": 8
        }
      ]
    },
    {
      "cell_type": "markdown",
      "source": [
        "* We are only looking at `text`, and `class` column.\n",
        "* (train sentences, and groundtruth)"
      ],
      "metadata": {
        "id": "3G4sY_4ujwg2"
      }
    },
    {
      "cell_type": "code",
      "source": [
        "set(SARC_df['class'])"
      ],
      "metadata": {
        "colab": {
          "base_uri": "https://localhost:8080/"
        },
        "id": "W2N6HB66ZTn7",
        "outputId": "abc79d70-4501-4adc-b656-48c09dcffa58"
      },
      "execution_count": 10,
      "outputs": [
        {
          "output_type": "execute_result",
          "data": {
            "text/plain": [
              "{'notsarc', 'sarc'}"
            ]
          },
          "metadata": {},
          "execution_count": 10
        }
      ]
    },
    {
      "cell_type": "code",
      "source": [
        "dataset_x = SARC_df['text']\n",
        "dataset_y = SARC_df['class']"
      ],
      "metadata": {
        "id": "pDmow9zhYyo0"
      },
      "execution_count": 11,
      "outputs": []
    },
    {
      "cell_type": "code",
      "source": [
        "dataset_y.replace({'notsarc': 0, 'sarc': 1}, inplace = True)"
      ],
      "metadata": {
        "id": "zWdbF91n9zrK"
      },
      "execution_count": 12,
      "outputs": []
    },
    {
      "cell_type": "code",
      "source": [
        "dataset_y"
      ],
      "metadata": {
        "id": "YXNYS_GLaIjD",
        "colab": {
          "base_uri": "https://localhost:8080/"
        },
        "outputId": "54d37894-4589-472e-d80c-88172291c660"
      },
      "execution_count": 13,
      "outputs": [
        {
          "output_type": "execute_result",
          "data": {
            "text/plain": [
              "0       0\n",
              "1       0\n",
              "2       0\n",
              "3       0\n",
              "4       0\n",
              "       ..\n",
              "6515    1\n",
              "6516    1\n",
              "6517    1\n",
              "6518    1\n",
              "6519    1\n",
              "Name: class, Length: 6520, dtype: int64"
            ]
          },
          "metadata": {},
          "execution_count": 13
        }
      ]
    },
    {
      "cell_type": "code",
      "source": [
        "from collections import Counter\n",
        "Counter(dataset_y)"
      ],
      "metadata": {
        "colab": {
          "base_uri": "https://localhost:8080/"
        },
        "id": "icdW603-eRzr",
        "outputId": "637d58b2-831c-4283-8542-91d1ee7f6a71"
      },
      "execution_count": 14,
      "outputs": [
        {
          "output_type": "execute_result",
          "data": {
            "text/plain": [
              "Counter({0: 3260, 1: 3260})"
            ]
          },
          "metadata": {},
          "execution_count": 14
        }
      ]
    },
    {
      "cell_type": "markdown",
      "source": [
        " * 75% data for training and 25% for testing / validation / evaluation."
      ],
      "metadata": {
        "id": "6DLhlU7KkDcN"
      }
    },
    {
      "cell_type": "code",
      "source": [
        "from sklearn.model_selection import train_test_split\n",
        "X_train, X_test, y_train, y_test = train_test_split(dataset_x, dataset_y, test_size=0.25, random_state=42)"
      ],
      "metadata": {
        "id": "e0ftQSRvZM0k"
      },
      "execution_count": 15,
      "outputs": []
    },
    {
      "cell_type": "code",
      "source": [
        "X_train, X_test, y_train, y_test = list(X_train), list(X_test), list(y_train), list(y_test)"
      ],
      "metadata": {
        "id": "lzEARE7PdVql"
      },
      "execution_count": 16,
      "outputs": []
    },
    {
      "cell_type": "code",
      "source": [
        "print(len(X_train))\n",
        "print(len(X_test))"
      ],
      "metadata": {
        "colab": {
          "base_uri": "https://localhost:8080/"
        },
        "id": "vZ5pXU_Dxbz1",
        "outputId": "beb1ef90-398c-4a73-d10b-e786aa99c1c9"
      },
      "execution_count": 17,
      "outputs": [
        {
          "output_type": "stream",
          "name": "stdout",
          "text": [
            "4890\n",
            "1630\n"
          ]
        }
      ]
    },
    {
      "cell_type": "markdown",
      "source": [
        " * For tokenizing text to numbers / tokens, we are just going to use **BertTokenizer**."
      ],
      "metadata": {
        "id": "riuCNXPykXlV"
      }
    },
    {
      "cell_type": "markdown",
      "source": [
        "### Introduction\n",
        "Tokenization is one of the first step in any NLP pipeline. Tokenization is nothing but splitting the raw text into small chunks of words or sentences, called tokens. If the text is split into words, then its called as 'Word Tokenization' and if it's split into sentences then its called as 'Sentence Tokenization'. Generally 'space' is used to perform the word tokenization and characters like 'periods, exclamation point and newline char are used for Sentence Tokenization. We have to choose the appropriate method as per the task in hand. While performing the tokenization few characters like spaces, punctuations are ignored and will not be the part of final list of tokens.\n",
        "\n",
        "![NLP_Tokenization.png](data:image/png;base64,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)\n",
        "\n",
        "### Why Tokenization is Required?\n",
        "\n",
        "Every sentence gets its meaning by the words present in it. So by analyzing the words present in the text we can easily interpret the meaning of the text. Once we have a list of words we can also use statistical tools and methods to get more insights into the text. For example, we can use word count and word frequency to find out important of word in that sentence or document."
      ],
      "metadata": {
        "id": "xOLWOKAjlbsG"
      }
    },
    {
      "cell_type": "markdown",
      "source": [
        "#### Summary of sentence length overall"
      ],
      "metadata": {
        "id": "f-xQ4B4JvOnO"
      }
    },
    {
      "cell_type": "code",
      "source": [
        "import numpy as np\n",
        "print(np.mean([len(x.split(' ')) for x in X_train]))\n",
        "print(np.max([len(x.split(' ')) for x in X_train]))\n",
        "print(np.min([len(x.split(' ')) for x in X_train]))"
      ],
      "metadata": {
        "colab": {
          "base_uri": "https://localhost:8080/"
        },
        "id": "2kz6Yq7kvGV1",
        "outputId": "619d0bc0-a882-40cf-d556-29225d24489d"
      },
      "execution_count": 18,
      "outputs": [
        {
          "output_type": "stream",
          "name": "stdout",
          "text": [
            "43.7398773006135\n",
            "164\n",
            "9\n"
          ]
        }
      ]
    },
    {
      "cell_type": "code",
      "source": [
        "import matplotlib.pyplot as plt\n",
        "plt.hist([len(x.split(' ')) for x in X_train], bins = 100)\n",
        "plt.show()"
      ],
      "metadata": {
        "colab": {
          "base_uri": "https://localhost:8080/",
          "height": 430
        },
        "id": "FLzzWUJMvb9W",
        "outputId": "225ab40e-9eb1-4fdb-9b7b-ae44b077b3f7"
      },
      "execution_count": 19,
      "outputs": [
        {
          "output_type": "display_data",
          "data": {
            "text/plain": [
              "<Figure size 640x480 with 1 Axes>"
            ],
            "image/png": "[encoded data removed]"
          },
          "metadata": {}
        }
      ]
    },
    {
      "cell_type": "markdown",
      "source": [
        "### Drop all the sentences longer than 50"
      ],
      "metadata": {
        "id": "FcQ_i1csv0D-"
      }
    },
    {
      "cell_type": "markdown",
      "source": [
        "### Tutorials for text tokenization\n",
        "* https://www.kaggle.com/code/satishgunjal/tokenization-in-nlp\n",
        "* https://neptune.ai/blog/tokenization-in-nlp\n",
        "* https://www.analyticsvidhya.com/blog/2021/09/an-explanatory-guide-to-bert-tokenizer/"
      ],
      "metadata": {
        "id": "oJ3qZlMMlnJE"
      }
    },
    {
      "cell_type": "code",
      "source": [
        "from keras.preprocessing.text import Tokenizer\n",
        "\n",
        "tokenizer = Tokenizer()\n",
        "tokenizer.fit_on_texts(X_train)\n",
        "\n",
        "X_token = tokenizer.texts_to_sequences(X_train)\n",
        "\n",
        "vocab_size = len(tokenizer.word_index) + 1"
      ],
      "metadata": {
        "id": "W9T2q-KbbOJU"
      },
      "execution_count": 20,
      "outputs": []
    },
    {
      "cell_type": "code",
      "source": [
        "print(vocab_size)"
      ],
      "metadata": {
        "colab": {
          "base_uri": "https://localhost:8080/"
        },
        "id": "q3yj0Llne13b",
        "outputId": "fa30582d-0af1-4900-b91e-689f38b4570d"
      },
      "execution_count": 21,
      "outputs": [
        {
          "output_type": "stream",
          "name": "stdout",
          "text": [
            "16032\n"
          ]
        }
      ]
    },
    {
      "cell_type": "code",
      "source": [
        "print(X_train[0])\n",
        "print(tokenizer.texts_to_sequences([X_train[0]]))"
      ],
      "metadata": {
        "colab": {
          "base_uri": "https://localhost:8080/"
        },
        "id": "iESrntLAe8sc",
        "outputId": "5b3ecf66-1306-447f-f7f6-66bf19d725f0"
      },
      "execution_count": 22,
      "outputs": [
        {
          "output_type": "stream",
          "name": "stdout",
          "text": [
            "But what about the married couple who know right up front they do not intend to have children, don't even intend to try? Do we ban them from marriage to?\n",
            "[[24, 26, 36, 1, 887, 835, 47, 52, 60, 68, 1657, 25, 29, 12, 2034, 2, 14, 271, 40, 78, 2034, 2, 236, 29, 34, 450, 63, 44, 158, 2]]\n"
          ]
        }
      ]
    },
    {
      "cell_type": "code",
      "source": [
        "import torch\n",
        "from transformers import BertTokenizer\n",
        "tokenizer = BertTokenizer.from_pretrained('bert-base-uncased', max_length = 50, padding_side = 'right')\n",
        "\n",
        "input_ids = torch.tensor(tokenizer.encode(X_train[0], add_special_tokens=True, max_length = 50, pad_to_max_length = True, truncation=True)).unsqueeze(0)  # Batch size 1"
      ],
      "metadata": {
        "id": "W2JMNMburO6p",
        "colab": {
          "base_uri": "https://localhost:8080/",
          "height": 145,
          "referenced_widgets": [
            "906c39efb65a486ca0eca13326d8339a",
            "c61fbd5a03a149b096ee91e98e71316f",
            "056ad9d8ff60477e9f4624b8cec04c23",
            "373dc68fd1ce44d59577e51b207e858a",
            "1a0c15c3a4c44a5ba778a991a920e247",
            "f51032802460416992159064a4c6e608",
            "0f017e89b48e4d21b2fb54cc87d0b499",
            "1e0ae020934f48a6bc5c27cdc9d0488a",
            "b94d456467c8448fa834cab0ff8091ea",
            "a67366551d91459bbda59d038c82409e",
            "769b230446974571a1f9cf1de3779be6",
            "6d3d82d4468e45f0806ac78d8874bf80",
            "4960e93fd7ec499fb52df8fb3f6c7d36",
            "5f56098b9e5d44e08ff095dce3ced9b2",
            "a2de1dceaaf047aaa7b383e818e512cd",
            "413f359391b74cf3870cadcd7337dbd8",
            "84cc6771355a423484c95db5a89aee97",
            "b162cb01bea940e89a0a976012dc907c",
            "e2b13ecb81e14f48aa05840a4b050f50",
            "01b8c2e79fff431a8857c01072463ca7",
            "3481c81e92d6468ea2eae3e720d69886",
            "3d9b5dcfdadf42adb85d7d518ae40998",
            "7d3f6c4fff7341939626998a6f4a27ab",
            "f35249c11c5d4f87b73bca7938b77975",
            "2a01bf7c9ad74776a80be5a01763a55e",
            "87fcd2ecc2c94df1a105b9d23fce47df",
            "745f1201d8994e68aae42f55ba78cb9a",
            "ee2677aebb234bdc9dab73cbb03217ff",
            "7787b72a538e4b30b70d30fa4934132c",
            "7216f662f3e1430cafd44ed884806f1b",
            "b8ea8c1f7cf040a19f160d8381bac31c",
            "4820743970ff4958a376b6d04f69758d",
            "06a9fcd53803443b9f86d4cdb5ec36b1",
            "8602c2e084c04d869a26d00496708114",
            "98ee47742ffb4dfd950b4b933fbc52ac",
            "1fb8a97257144d7aa215f939208076b4",
            "2a2c81405c8b4d19967ebe54aa1fd7a6",
            "373287a251024d41b9323394b7b2bb51",
            "0dda49819ffe439490f9d41918e8b32a",
            "d6b90105bce94d0faebe4c243e5e1d3a",
            "8a774bde6ab94cd4b3a7db47383b190d",
            "68966c2e4e744c65bc2b4006c6eb0bcc",
            "f307d87abe6e484280f5a977b537e23c",
            "ce6937d8375c4de4a8ec3601671f1dc8"
          ]
        },
        "outputId": "8fb5ef83-400a-4ae9-f8d2-540d039e3a6f"
      },
      "execution_count": 23,
      "outputs": [
        {
          "output_type": "display_data",
          "data": {
            "text/plain": [
              "Downloading (…)okenizer_config.json:   0%|          | 0.00/28.0 [00:00<?, ?B/s]"
            ],
            "application/vnd.jupyter.widget-view+json": {
              "version_major": 2,
              "version_minor": 0,
              "model_id": "906c39efb65a486ca0eca13326d8339a"
            }
          },
          "metadata": {}
        },
        {
          "output_type": "display_data",
          "data": {
            "text/plain": [
              "Downloading (…)solve/main/vocab.txt:   0%|          | 0.00/232k [00:00<?, ?B/s]"
            ],
            "application/vnd.jupyter.widget-view+json": {
              "version_major": 2,
              "version_minor": 0,
              "model_id": "6d3d82d4468e45f0806ac78d8874bf80"
            }
          },
          "metadata": {}
        },
        {
          "output_type": "display_data",
          "data": {
            "text/plain": [
              "Downloading (…)/main/tokenizer.json:   0%|          | 0.00/466k [00:00<?, ?B/s]"
            ],
            "application/vnd.jupyter.widget-view+json": {
              "version_major": 2,
              "version_minor": 0,
              "model_id": "7d3f6c4fff7341939626998a6f4a27ab"
            }
          },
          "metadata": {}
        },
        {
          "output_type": "display_data",
          "data": {
            "text/plain": [
              "Downloading (…)lve/main/config.json:   0%|          | 0.00/570 [00:00<?, ?B/s]"
            ],
            "application/vnd.jupyter.widget-view+json": {
              "version_major": 2,
              "version_minor": 0,
              "model_id": "8602c2e084c04d869a26d00496708114"
            }
          },
          "metadata": {}
        }
      ]
    },
    {
      "cell_type": "code",
      "source": [
        "print(X_train[0])\n",
        "print(input_ids)"
      ],
      "metadata": {
        "colab": {
          "base_uri": "https://localhost:8080/"
        },
        "id": "9hqWbEkgriuR",
        "outputId": "c1756c3b-a0d5-4049-b6ac-cfee27ff846d"
      },
      "execution_count": 24,
      "outputs": [
        {
          "output_type": "stream",
          "name": "stdout",
          "text": [
            "But what about the married couple who know right up front they do not intend to have children, don't even intend to try? Do we ban them from marriage to?\n",
            "tensor([[  101,  2021,  2054,  2055,  1996,  2496,  3232,  2040,  2113,  2157,\n",
            "          2039,  2392,  2027,  2079,  2025, 13566,  2000,  2031,  2336,  1010,\n",
            "          2123,  1005,  1056,  2130, 13566,  2000,  3046,  1029,  2079,  2057,\n",
            "          7221,  2068,  2013,  3510,  2000,  1029,   102,     0,     0,     0,\n",
            "             0,     0,     0,     0,     0,     0,     0,     0,     0,     0]])\n"
          ]
        }
      ]
    },
    {
      "cell_type": "code",
      "source": [
        "# we also need attention masks\n",
        "\n",
        "encoded = tokenizer.encode_plus(X_train[0], add_special_tokens=True, max_length = 50, pad_to_max_length = True,\n",
        "                                return_token_type_ids = False,\n",
        "                                return_attention_mask = True, truncation=True)  # Batch size 1"
      ],
      "metadata": {
        "id": "n3qEQAtKrslB"
      },
      "execution_count": 25,
      "outputs": []
    },
    {
      "cell_type": "code",
      "source": [
        "print(encoded)"
      ],
      "metadata": {
        "colab": {
          "base_uri": "https://localhost:8080/"
        },
        "id": "tvdv6QM6r0rB",
        "outputId": "744970fe-5bbe-489c-ff7c-f0cb7e643c3f"
      },
      "execution_count": 26,
      "outputs": [
        {
          "output_type": "stream",
          "name": "stdout",
          "text": [
            "{'input_ids': [101, 2021, 2054, 2055, 1996, 2496, 3232, 2040, 2113, 2157, 2039, 2392, 2027, 2079, 2025, 13566, 2000, 2031, 2336, 1010, 2123, 1005, 1056, 2130, 13566, 2000, 3046, 1029, 2079, 2057, 7221, 2068, 2013, 3510, 2000, 1029, 102, 0, 0, 0, 0, 0, 0, 0, 0, 0, 0, 0, 0, 0], 'attention_mask': [1, 1, 1, 1, 1, 1, 1, 1, 1, 1, 1, 1, 1, 1, 1, 1, 1, 1, 1, 1, 1, 1, 1, 1, 1, 1, 1, 1, 1, 1, 1, 1, 1, 1, 1, 1, 1, 0, 0, 0, 0, 0, 0, 0, 0, 0, 0, 0, 0, 0]}\n"
          ]
        }
      ]
    },
    {
      "cell_type": "markdown",
      "source": [
        "### Pre-trained RoBERTa for sequence classification"
      ],
      "metadata": {
        "id": "urLAsB0_sAxL"
      }
    },
    {
      "cell_type": "code",
      "source": [
        "from transformers import RobertaTokenizer, RobertaModel\n",
        "tokenizer = RobertaTokenizer.from_pretrained('roberta-base')\n",
        "model = RobertaModel.from_pretrained('roberta-base')"
      ],
      "metadata": {
        "colab": {
          "base_uri": "https://localhost:8080/",
          "height": 232,
          "referenced_widgets": [
            "4f0905fe0b704580805c9493785ea900",
            "56d75fae58724de6adaa69b7adc65a1b",
            "d8c567b0f6b5425889c66162d4d44a07",
            "df729a82d4eb419483acdb1984a113f7",
            "5defb74ad3e04975a7d16c8ccfd80a7c",
            "1ad9d76bb5bd4662956bfa78521ee8cb",
            "b8fb6caa882646eba4ec9817b9effe50",
            "61a7dc79bb3a472f9cb05ec31ce49c0f",
            "29b5b05359e3432799dfecba5632fed5",
            "1620d8f96085499fa15a0fb4db4751ba",
            "fdb01804a6894829a5b90abe5ca17a6c",
            "dec58d3b11c0476e9aedf1195a6897ee",
            "f01f73cca9224ed2b209f23ba013db7e",
            "e5885f85ff8345f0979ceb40dff2aa23",
            "0f66616e297e41feafc99027cf31811a",
            "4fe98a3ab4324caa9c86df595cca9121",
            "3dd63d6002d942f79eb6db09ed6ef15c",
            "a765156dd48746a1bfbb70b67e9b238e",
            "284095b5439246f0a180cbb1f49b3353",
            "3d12d63256d844e18a99ac13894bad9e",
            "f8479000c2a3422f9e9e10de7f4e7d92",
            "6b668ef57599422cad43100af6d72c2e",
            "422cadfa009b42dd96326c25cc4cf822",
            "4947ce449119412cb9bf22d26a0a93de",
            "0fe228765b134041aa8b2cd68446144b",
            "9d961ca0fe074b5d804b6cf5c48a662a",
            "7d852e7336c1473f92dff9bd83ac204e",
            "aaa0fd6fe6c34670a4290fcbf6cf4b94",
            "1c9bd13861a842b3925299c159bf0ab3",
            "5505be291e8843deb8e25c051d974e0d",
            "35e7050f15a144baa1c6a4dc51293898",
            "553d3260de7941729a105f3340300534",
            "4d5c7417caa54b64b622c9efd8e7ea18",
            "1f6937d20fb84492b9e527662878a96f",
            "4b8a40eb8220454ea91aba2af531d1aa",
            "2eeb0da4e48b49888b77eb9bd4975b6d",
            "cef55df8d86046f892403a41bb924b78",
            "84ea9abf137a4c5d99558740b788f893",
            "f02e1d6c70f9407db61d1984a69c7f04",
            "603e125e4f0e4e70b8d65884fab63abe",
            "294ad31e40b248cd8c2f27e0a346cc1d",
            "b1da4a9123034824b47a54579df3c166",
            "a25024c42b134dde9e80fab392c52f25",
            "6cee7e56aa86453ab942105769eca5d6",
            "3a77c3583e5d49c992c920e374b5e823",
            "d3ff25be75184adb9057d20ee5c14613",
            "1fe4ab46d8b14aa59dc47201f73196be",
            "43f6cebc36b64edea53f49ba0e5d9136",
            "ae6e1b7734ca4fe0930b6d24354248ea",
            "7ed22345e60f41f3a2365723e0941e0c",
            "6e8e614b4b66474bb6c51601180eebf7",
            "1de6b98f1b094ab8ad57a473769ce32f",
            "6ebef9945a044e55a46d489fcbe805f1",
            "3d74b69a249d43b2b9639086fdb0cdf0",
            "344e18b7d3c44059abcf1feea88db871"
          ]
        },
        "id": "c5Br7MO4r7Yg",
        "outputId": "fd6b76a0-cc69-4ed2-d8bf-9ccc1873be01"
      },
      "execution_count": 27,
      "outputs": [
        {
          "output_type": "display_data",
          "data": {
            "text/plain": [
              "Downloading (…)olve/main/vocab.json:   0%|          | 0.00/899k [00:00<?, ?B/s]"
            ],
            "application/vnd.jupyter.widget-view+json": {
              "version_major": 2,
              "version_minor": 0,
              "model_id": "4f0905fe0b704580805c9493785ea900"
            }
          },
          "metadata": {}
        },
        {
          "output_type": "display_data",
          "data": {
            "text/plain": [
              "Downloading (…)olve/main/merges.txt:   0%|          | 0.00/456k [00:00<?, ?B/s]"
            ],
            "application/vnd.jupyter.widget-view+json": {
              "version_major": 2,
              "version_minor": 0,
              "model_id": "dec58d3b11c0476e9aedf1195a6897ee"
            }
          },
          "metadata": {}
        },
        {
          "output_type": "display_data",
          "data": {
            "text/plain": [
              "Downloading (…)/main/tokenizer.json:   0%|          | 0.00/1.36M [00:00<?, ?B/s]"
            ],
            "application/vnd.jupyter.widget-view+json": {
              "version_major": 2,
              "version_minor": 0,
              "model_id": "422cadfa009b42dd96326c25cc4cf822"
            }
          },
          "metadata": {}
        },
        {
          "output_type": "display_data",
          "data": {
            "text/plain": [
              "Downloading (…)lve/main/config.json:   0%|          | 0.00/481 [00:00<?, ?B/s]"
            ],
            "application/vnd.jupyter.widget-view+json": {
              "version_major": 2,
              "version_minor": 0,
              "model_id": "1f6937d20fb84492b9e527662878a96f"
            }
          },
          "metadata": {}
        },
        {
          "output_type": "display_data",
          "data": {
            "text/plain": [
              "Downloading model.safetensors:   0%|          | 0.00/499M [00:00<?, ?B/s]"
            ],
            "application/vnd.jupyter.widget-view+json": {
              "version_major": 2,
              "version_minor": 0,
              "model_id": "3a77c3583e5d49c992c920e374b5e823"
            }
          },
          "metadata": {}
        },
        {
          "output_type": "stream",
          "name": "stderr",
          "text": [
            "Some weights of RobertaModel were not initialized from the model checkpoint at roberta-base and are newly initialized: ['roberta.pooler.dense.weight', 'roberta.pooler.dense.bias']\n",
            "You should probably TRAIN this model on a down-stream task to be able to use it for predictions and inference.\n"
          ]
        }
      ]
    },
    {
      "cell_type": "code",
      "source": [
        "print(model)"
      ],
      "metadata": {
        "colab": {
          "base_uri": "https://localhost:8080/"
        },
        "id": "X1NPMF0-sJmh",
        "outputId": "e168a23b-356c-471e-9d6b-c5922606a84f"
      },
      "execution_count": 28,
      "outputs": [
        {
          "output_type": "stream",
          "name": "stdout",
          "text": [
            "RobertaModel(\n",
            "  (embeddings): RobertaEmbeddings(\n",
            "    (word_embeddings): Embedding(50265, 768, padding_idx=1)\n",
            "    (position_embeddings): Embedding(514, 768, padding_idx=1)\n",
            "    (token_type_embeddings): Embedding(1, 768)\n",
            "    (LayerNorm): LayerNorm((768,), eps=1e-05, elementwise_affine=True)\n",
            "    (dropout): Dropout(p=0.1, inplace=False)\n",
            "  )\n",
            "  (encoder): RobertaEncoder(\n",
            "    (layer): ModuleList(\n",
            "      (0-11): 12 x RobertaLayer(\n",
            "        (attention): RobertaAttention(\n",
            "          (self): RobertaSelfAttention(\n",
            "            (query): Linear(in_features=768, out_features=768, bias=True)\n",
            "            (key): Linear(in_features=768, out_features=768, bias=True)\n",
            "            (value): Linear(in_features=768, out_features=768, bias=True)\n",
            "            (dropout): Dropout(p=0.1, inplace=False)\n",
            "          )\n",
            "          (output): RobertaSelfOutput(\n",
            "            (dense): Linear(in_features=768, out_features=768, bias=True)\n",
            "            (LayerNorm): LayerNorm((768,), eps=1e-05, elementwise_affine=True)\n",
            "            (dropout): Dropout(p=0.1, inplace=False)\n",
            "          )\n",
            "        )\n",
            "        (intermediate): RobertaIntermediate(\n",
            "          (dense): Linear(in_features=768, out_features=3072, bias=True)\n",
            "          (intermediate_act_fn): GELUActivation()\n",
            "        )\n",
            "        (output): RobertaOutput(\n",
            "          (dense): Linear(in_features=3072, out_features=768, bias=True)\n",
            "          (LayerNorm): LayerNorm((768,), eps=1e-05, elementwise_affine=True)\n",
            "          (dropout): Dropout(p=0.1, inplace=False)\n",
            "        )\n",
            "      )\n",
            "    )\n",
            "  )\n",
            "  (pooler): RobertaPooler(\n",
            "    (dense): Linear(in_features=768, out_features=768, bias=True)\n",
            "    (activation): Tanh()\n",
            "  )\n",
            ")\n"
          ]
        }
      ]
    },
    {
      "cell_type": "markdown",
      "source": [
        "### SARCASM Dataloader"
      ],
      "metadata": {
        "id": "MWIl43XRtMwi"
      }
    },
    {
      "cell_type": "code",
      "source": [
        "from torch.utils.data import Dataset\n",
        "import numpy as np\n",
        "import re\n",
        "import nltk\n",
        "import string\n",
        "\n",
        "class SARCDataset(Dataset):\n",
        "    def __init__(self, X, y, tokenizer):\n",
        "        texts = X\n",
        "\n",
        "        texts = [self._preprocess(text) for text in texts]\n",
        "\n",
        "        self._print_random_samples(texts)\n",
        "\n",
        "        self.texts = [tokenizer(text, padding='max_length',\n",
        "                                max_length=150,\n",
        "                                truncation=True,\n",
        "                                return_tensors=\"pt\")\n",
        "                      for text in texts]\n",
        "\n",
        "        self.labels = y\n",
        "\n",
        "    def _print_random_samples(self, texts):\n",
        "        np.random.seed(42)\n",
        "        random_entries = np.random.randint(0, len(texts), 5)\n",
        "\n",
        "        for i in random_entries:\n",
        "            print(f\"Entry {i}: {texts[i]}\")\n",
        "\n",
        "        print()\n",
        "\n",
        "    def _preprocess(self, text):\n",
        "        text = self._remove_amp(text)\n",
        "        text = self._remove_links(text)\n",
        "        text = self._remove_hashes(text)\n",
        "        text = self._remove_retweets(text)\n",
        "        text = self._remove_mentions(text)\n",
        "        text = self._remove_multiple_spaces(text)\n",
        "\n",
        "        #text = self._lowercase(text)\n",
        "        text = self._remove_punctuation(text)\n",
        "        #text = self._remove_numbers(text)\n",
        "\n",
        "        text_tokens = self._tokenize(text)\n",
        "        text_tokens = self._stopword_filtering(text_tokens)\n",
        "        #text_tokens = self._stemming(text_tokens)\n",
        "        text = self._stitch_text_tokens_together(text_tokens)\n",
        "\n",
        "        return text.strip()\n",
        "\n",
        "\n",
        "    def _remove_amp(self, text):\n",
        "        return text.replace(\"&amp;\", \" \")\n",
        "\n",
        "    def _remove_mentions(self, text):\n",
        "        return re.sub(r'(@.*?)[\\s]', ' ', text)\n",
        "\n",
        "    def _remove_multiple_spaces(self, text):\n",
        "        return re.sub(r'\\s+', ' ', text)\n",
        "\n",
        "    def _remove_retweets(self, text):\n",
        "        return re.sub(r'^RT[\\s]+', ' ', text)\n",
        "\n",
        "    def _remove_links(self, text):\n",
        "        return re.sub(r'https?:\\/\\/[^\\s\\n\\r]+', ' ', text)\n",
        "\n",
        "    def _remove_hashes(self, text):\n",
        "        return re.sub(r'#', ' ', text)\n",
        "\n",
        "    def _stitch_text_tokens_together(self, text_tokens):\n",
        "        return \" \".join(text_tokens)\n",
        "\n",
        "    def _tokenize(self, text):\n",
        "        return nltk.word_tokenize(text, language=\"english\")\n",
        "\n",
        "    def _stopword_filtering(self, text_tokens):\n",
        "        stop_words = nltk.corpus.stopwords.words('english')\n",
        "\n",
        "        return [token for token in text_tokens if token not in stop_words]\n",
        "\n",
        "    def _stemming(self, text_tokens):\n",
        "        porter = nltk.stem.porter.PorterStemmer()\n",
        "        return [porter.stem(token) for token in text_tokens]\n",
        "\n",
        "    def _remove_numbers(self, text):\n",
        "        return re.sub(r'\\d+', ' ', text)\n",
        "\n",
        "    def _lowercase(self, text):\n",
        "        return text.lower()\n",
        "\n",
        "    def _remove_punctuation(self, text):\n",
        "        return ''.join(character for character in text if character not in string.punctuation)\n",
        "\n",
        "    def __len__(self):\n",
        "        return len(self.texts)\n",
        "\n",
        "    def __getitem__(self, idx):\n",
        "        text = self.texts[idx]\n",
        "\n",
        "        label = -1\n",
        "        if hasattr(self, 'labels'):\n",
        "            label = self.labels[idx]\n",
        "\n",
        "        return text, label"
      ],
      "metadata": {
        "id": "FeQHK0PVs86h"
      },
      "execution_count": 29,
      "outputs": []
    },
    {
      "cell_type": "markdown",
      "source": [
        "#### Train Test Split"
      ],
      "metadata": {
        "id": "J0CpaKj1uVRq"
      }
    },
    {
      "cell_type": "code",
      "source": [
        "import nltk\n",
        "nltk.download('punkt')\n",
        "nltk.download('stopwords')"
      ],
      "metadata": {
        "colab": {
          "base_uri": "https://localhost:8080/"
        },
        "id": "DVp4Cr5uupwA",
        "outputId": "cacb1a85-cc6a-4295-a4b0-ec5187a1cc4b"
      },
      "execution_count": 30,
      "outputs": [
        {
          "output_type": "stream",
          "name": "stderr",
          "text": [
            "[nltk_data] Downloading package punkt to /root/nltk_data...\n",
            "[nltk_data]   Unzipping tokenizers/punkt.zip.\n",
            "[nltk_data] Downloading package stopwords to /root/nltk_data...\n",
            "[nltk_data]   Unzipping corpora/stopwords.zip.\n"
          ]
        },
        {
          "output_type": "execute_result",
          "data": {
            "text/plain": [
              "True"
            ]
          },
          "metadata": {},
          "execution_count": 30
        }
      ]
    },
    {
      "cell_type": "code",
      "source": [
        "train_sarc = SARCDataset(X_train, y_train, tokenizer)"
      ],
      "metadata": {
        "colab": {
          "base_uri": "https://localhost:8080/"
        },
        "id": "QdceX6v_t9Si",
        "outputId": "50e03a82-c4e9-4c03-e8f7-cd125a0964c6"
      },
      "execution_count": 31,
      "outputs": [
        {
          "output_type": "stream",
          "name": "stdout",
          "text": [
            "Entry 860: Whats matter Cant anybody KC afford 2 cars emoticonXWow\n",
            "Entry 3772: Yes I believe matter personal individual freedom If purchased legally used commit crime harm comes handgun ownership I dont one I many guns If ban handguns whats stop banning shotguns even BB guns I dont believe nanny state taking away toys good Waxy\n",
            "Entry 3092: Well theres grounds lawsuit Find group veterans get sue VA funded NRA take whole organization court charges violating federal standards\n",
            "Entry 466: That interpretation fine except God says I WILL make helper suitable He hadnt made animals yet verse 18 created Adam verse 7\n",
            "Entry 4426: You state woman comes first This seems absolute Why woman come first Is fully developed Is important child carrying\n",
            "\n"
          ]
        }
      ]
    },
    {
      "cell_type": "code",
      "source": [
        "test_sarc = SARCDataset(X_test, y_test, tokenizer)"
      ],
      "metadata": {
        "colab": {
          "base_uri": "https://localhost:8080/"
        },
        "id": "BRYWyz9AuhGR",
        "outputId": "3b74ebd9-4628-48aa-abf8-d4cf84730fc1"
      },
      "execution_count": 32,
      "outputs": [
        {
          "output_type": "stream",
          "name": "stdout",
          "text": [
            "Entry 1126: Sure The outcome Heller vs DC Florida Shall Issue laws support statement According Brady logic helpless safer criminals\n",
            "Entry 1459: Then thats far go thats fine Not science worshiper I simply dont automatically take type blanket statement automatically true What largely prompted thread happened last Tuesday 630 AM sixfigure weather forecaster scientist guy assured everyone watching pretty nice day ahead largely cloudy yet peeks sun slim chance spotty rain 2 hours later beginning widespread heavy rain three solid hours Unusual course scientific blunders concerning miles I imagine could blunders concerning hundreds thousands light years\n",
            "Entry 860: So havent got answer question prove busted Thats OKas long see\n",
            "Entry 1294: Its even worse He isnt asking info works I would supply gladly He claims already know wrong implies thinks knows But despite already knowing carbon dating still needs someone provide explanation present proof incorrect As Akbar says Its trap\n",
            "Entry 1130: Perhaps analogy Lets say sake argument smoke drink personally whatever reason However believe others right drink smoke choose So personally drinking smoking prochoice regard meaning believe every person make determination themselvesProlife would You dont drink smoke morally perhaps going make sure one else able either\n",
            "\n"
          ]
        }
      ]
    },
    {
      "cell_type": "code",
      "source": [
        "from torch.utils.data import DataLoader\n",
        "\n",
        "train_dataloader = DataLoader(train_sarc, batch_size=8, shuffle=True, num_workers=0)\n",
        "val_dataloader = DataLoader(test_sarc, batch_size=8, num_workers=0)"
      ],
      "metadata": {
        "id": "TGA1pVpDu5gA"
      },
      "execution_count": 33,
      "outputs": []
    },
    {
      "cell_type": "markdown",
      "source": [
        "### RoBERTa for sarcasm classification\n",
        "\n",
        "The RoBERTa model was proposed in RoBERTa: A Robustly Optimized BERT Pretraining Approach by Yinhan Liu, Myle Ott, Naman Goyal, Jingfei Du, Mandar Joshi, Danqi Chen, Omer Levy, Mike Lewis, Luke Zettlemoyer, Veselin Stoyanov. It is based on Google’s BERT model released in 2018.\n",
        "\n",
        "It builds on BERT and modifies key hyperparameters, removing the next-sentence pretraining objective and training with much larger mini-batches and learning rates.\n",
        "\n",
        "**The abstract from the paper is the following:**\n",
        "\n",
        "Language model pretraining has led to significant performance gains but careful comparison between different approaches is challenging. Training is computationally expensive, often done on private datasets of different sizes, and, as we will show, hyperparameter choices have significant impact on the final results. We present a replication study of BERT pretraining (Devlin et al., 2019) that carefully measures the impact of many key hyperparameters and training data size. We find that BERT was significantly undertrained, and can match or exceed the performance of every model published after it. Our best model achieves state-of-the-art results on GLUE, RACE and SQuAD. These results highlight the importance of previously overlooked design choices, and raise questions about the source of recently reported improvements. We release our models and code."
      ],
      "metadata": {
        "id": "d_y2KEWMvMki"
      }
    },
    {
      "cell_type": "code",
      "source": [
        "from torch import nn\n",
        "\n",
        "class SARCClassifier(nn.Module):\n",
        "    def __init__(self, base_model):\n",
        "        super(SARCClassifier, self).__init__()\n",
        "\n",
        "        self.bert = base_model\n",
        "        self.fc1 = nn.Linear(768, 32)\n",
        "        self.fc2 = nn.Linear(32, 1)\n",
        "\n",
        "        self.relu = nn.ReLU()\n",
        "        self.sigmoid = nn.Sigmoid()\n",
        "\n",
        "    def forward(self, input_ids, attention_mask):\n",
        "        bert_out = self.bert(input_ids=input_ids,\n",
        "                             attention_mask=attention_mask)[0][:, 0]\n",
        "        x = self.fc1(bert_out)\n",
        "        x = self.relu(x)\n",
        "\n",
        "        x = self.fc2(x)\n",
        "        x = self.sigmoid(x)\n",
        "\n",
        "        return x"
      ],
      "metadata": {
        "id": "1qNUDq3avAjw"
      },
      "execution_count": 34,
      "outputs": []
    },
    {
      "cell_type": "markdown",
      "source": [
        "#### Training code"
      ],
      "metadata": {
        "id": "A7hyI78vvgua"
      }
    },
    {
      "cell_type": "markdown",
      "source": [
        "![2-Figure1-1.png](data:image/png;base64,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)"
      ],
      "metadata": {
        "id": "5iycf9Um1NTi"
      }
    },
    {
      "cell_type": "markdown",
      "source": [
        "**RoBERTa** is an extension of BERT with changes to the pretraining procedure. The modifications include:\n",
        "\n",
        "* training the model longer, with bigger batches, over more data\n",
        "* removing the next sentence prediction objective\n",
        "* training on longer sequences\n",
        "* dynamically changing the masking pattern applied to the training data.\n",
        "* The authors also collect a large new dataset **(CC-News)** of comparable size to other privately used datasets, to better control for training set size effects"
      ],
      "metadata": {
        "id": "GJJkna7-1XtY"
      }
    },
    {
      "cell_type": "code",
      "source": [
        "import torch\n",
        "from torch.optim import Adam\n",
        "from tqdm import tqdm\n",
        "from  sklearn.metrics import f1_score, roc_auc_score, accuracy_score\n",
        "\n",
        "def train(model, train_dataloader, val_dataloader, learning_rate, epochs):\n",
        "    best_val_loss = float('inf')\n",
        "    early_stopping_threshold_count = 0\n",
        "    EARLY_STOPPING = 3\n",
        "\n",
        "\n",
        "    use_cuda = torch.cuda.is_available()\n",
        "    device = torch.device(\"cuda\" if use_cuda else \"cpu\")\n",
        "\n",
        "    criterion = nn.BCELoss()\n",
        "    optimizer = Adam(model.parameters(), lr=learning_rate)\n",
        "\n",
        "    model = model.to(device)\n",
        "    criterion = criterion.to(device)\n",
        "\n",
        "    model_metrics = {}\n",
        "    model_metrics['train_accuracy'] = []\n",
        "    model_metrics['val_accuracy'] = []\n",
        "    model_metrics['train_loss'] = []\n",
        "    model_metrics['val_loss'] = []\n",
        "    model_metrics['f1'] = []\n",
        "    model_metrics['val_f1'] = []\n",
        "    model_metrics['auc'] = []\n",
        "    model_metrics['val_auc'] = []\n",
        "\n",
        "\n",
        "    for epoch in range(epochs):\n",
        "        total_acc_train = 0\n",
        "        total_loss_train = 0\n",
        "        total_f1_train = 0\n",
        "        total_auc_train = 0\n",
        "\n",
        "        model.train()\n",
        "\n",
        "        for train_input, train_label in tqdm(train_dataloader):\n",
        "            attention_mask = train_input['attention_mask'].to(device)\n",
        "            input_ids = train_input['input_ids'].squeeze(1).to(device)\n",
        "\n",
        "            train_label = train_label.to(device)\n",
        "\n",
        "            output = model(input_ids, attention_mask)\n",
        "\n",
        "            loss = criterion(output, train_label.float().unsqueeze(1))\n",
        "\n",
        "            total_loss_train += loss.item()\n",
        "\n",
        "            acc = ((output >= 0.5).int() == train_label.unsqueeze(1)).sum().item()\n",
        "            total_acc_train += acc\n",
        "\n",
        "            out_preds = output.cpu().detach().numpy().flatten()\n",
        "            targets = train_label.cpu().detach().numpy().flatten()\n",
        "            try:\n",
        "              auc_score = roc_auc_score(targets, out_preds)\n",
        "            except:\n",
        "              auc_score = 1\n",
        "            total_auc_train += auc_score\n",
        "\n",
        "            out_preds[out_preds < 0.5] = 0\n",
        "            out_preds[out_preds >= 0.5] = 1\n",
        "            f1_score_ = f1_score(targets, out_preds)\n",
        "            total_f1_train += f1_score_\n",
        "\n",
        "            loss.backward()\n",
        "            optimizer.step()\n",
        "            optimizer.zero_grad()\n",
        "\n",
        "        with torch.no_grad():\n",
        "            total_acc_val = 0\n",
        "            total_loss_val = 0\n",
        "            total_f1_val = 0\n",
        "            total_auc_val = 0\n",
        "\n",
        "            model.eval()\n",
        "\n",
        "            for val_input, val_label in tqdm(val_dataloader):\n",
        "                attention_mask = val_input['attention_mask'].to(device)\n",
        "                input_ids = val_input['input_ids'].squeeze(1).to(device)\n",
        "\n",
        "                val_label = val_label.to(device)\n",
        "\n",
        "                output = model(input_ids, attention_mask)\n",
        "\n",
        "                loss = criterion(output, val_label.float().unsqueeze(1))\n",
        "\n",
        "                total_loss_val += loss.item()\n",
        "\n",
        "                acc = ((output >= 0.5).int() == val_label.unsqueeze(1)).sum().item()\n",
        "                total_acc_val += acc\n",
        "\n",
        "                out_preds = output.cpu().detach().numpy().flatten()\n",
        "                targets = val_label.cpu().detach().numpy().flatten()\n",
        "                try:\n",
        "                  auc_score = roc_auc_score(targets, out_preds)\n",
        "                except:\n",
        "                  auc_score = 1.\n",
        "                total_auc_val += auc_score\n",
        "\n",
        "                out_preds[out_preds < 0.5] = 0\n",
        "                out_preds[out_preds >= 0.5] = 1\n",
        "                f1_score_ = f1_score(targets, out_preds)\n",
        "                total_f1_val += f1_score_\n",
        "\n",
        "\n",
        "            print(f'Epochs: {epoch + 1} '\n",
        "                  f'| Train Loss: {total_loss_train / len(train_dataloader): .3f} '\n",
        "                  f'| Train Accuracy: {total_acc_train / (len(train_dataloader.dataset)): .3f} '\n",
        "                  f'| Val Loss: {total_loss_val / len(val_dataloader): .3f} '\n",
        "                  f'| Val Accuracy: {total_acc_val / len(val_dataloader.dataset): .3f}')\n",
        "            model_metrics['train_accuracy'].append(total_acc_train / (len(train_dataloader.dataset)))\n",
        "            model_metrics['val_accuracy'].append(total_acc_val / len(val_dataloader.dataset))\n",
        "            model_metrics['train_loss'].append(total_loss_train / len(train_dataloader))\n",
        "            model_metrics['val_loss'].append(total_loss_val / len(val_dataloader))\n",
        "            model_metrics['f1'].append(total_f1_train / len(train_dataloader))\n",
        "            model_metrics['val_f1'].append(total_f1_val / len(val_dataloader))\n",
        "            model_metrics['auc'].append(total_auc_train / len(train_dataloader))\n",
        "            model_metrics['val_auc'].append(total_auc_val / len(val_dataloader))\n",
        "\n",
        "            print(model_metrics)\n",
        "\n",
        "            if best_val_loss > total_loss_val:\n",
        "                best_val_loss = total_loss_val\n",
        "                torch.save(model, f\"best_model.pt\")\n",
        "                print(\"Saved model\")\n",
        "                early_stopping_threshold_count = 0\n",
        "            else:\n",
        "                early_stopping_threshold_count += 1\n",
        "\n",
        "            if early_stopping_threshold_count >= EARLY_STOPPING:\n",
        "                print(\"Early stopping\")\n",
        "                break\n",
        "    return model_metrics"
      ],
      "metadata": {
        "id": "_IL02wdgvc6R"
      },
      "execution_count": 35,
      "outputs": []
    },
    {
      "cell_type": "code",
      "source": [
        "from transformers import AutoTokenizer, AutoModel\n",
        "from torch.utils.data import DataLoader\n",
        "\n",
        "torch.manual_seed(0)\n",
        "np.random.seed(0)\n",
        "\n",
        "\n",
        "BERT_MODEL = \"roberta-base\"\n",
        "tokenizer = AutoTokenizer.from_pretrained(BERT_MODEL)\n",
        "base_model = AutoModel.from_pretrained(BERT_MODEL)\n",
        "\n",
        "\n",
        "model = SARCClassifier(base_model)\n",
        "\n",
        "\n",
        "learning_rate = 1e-5\n",
        "epochs = 10"
      ],
      "metadata": {
        "colab": {
          "base_uri": "https://localhost:8080/"
        },
        "id": "Sp02zxlgvikh",
        "outputId": "52c81a8a-efd1-4c62-f91a-2c4eef7d3305"
      },
      "execution_count": 36,
      "outputs": [
        {
          "output_type": "stream",
          "name": "stderr",
          "text": [
            "Some weights of RobertaModel were not initialized from the model checkpoint at roberta-base and are newly initialized: ['roberta.pooler.dense.weight', 'roberta.pooler.dense.bias']\n",
            "You should probably TRAIN this model on a down-stream task to be able to use it for predictions and inference.\n"
          ]
        }
      ]
    },
    {
      "cell_type": "code",
      "source": [
        "metrics = train(model, train_dataloader, val_dataloader, learning_rate, epochs)"
      ],
      "metadata": {
        "colab": {
          "base_uri": "https://localhost:8080/"
        },
        "id": "Yzx9WqWrvxhh",
        "outputId": "d5fcefb0-b5be-4455-c021-262bf69c22a2"
      },
      "execution_count": 37,
      "outputs": [
        {
          "output_type": "stream",
          "name": "stderr",
          "text": [
            "100%|██████████| 612/612 [02:22<00:00,  4.30it/s]\n",
            "100%|██████████| 204/204 [00:14<00:00, 13.93it/s]\n"
          ]
        },
        {
          "output_type": "stream",
          "name": "stdout",
          "text": [
            "Epochs: 1 | Train Loss:  0.558 | Train Accuracy:  0.719 | Val Loss:  0.516 | Val Accuracy:  0.755\n",
            "{'train_accuracy': [0.7194274028629857], 'val_accuracy': [0.7552147239263803], 'train_loss': [0.5579955282261948], 'val_loss': [0.5160684104205346], 'f1': [0.649048745372277], 'val_f1': [0.7319882731647439], 'auc': [0.8119718720821684], 'val_auc': [0.8385037348272643]}\n",
            "Saved model\n"
          ]
        },
        {
          "output_type": "stream",
          "name": "stderr",
          "text": [
            "100%|██████████| 612/612 [02:22<00:00,  4.29it/s]\n",
            "100%|██████████| 204/204 [00:14<00:00, 13.97it/s]\n"
          ]
        },
        {
          "output_type": "stream",
          "name": "stdout",
          "text": [
            "Epochs: 2 | Train Loss:  0.447 | Train Accuracy:  0.805 | Val Loss:  0.497 | Val Accuracy:  0.764\n",
            "{'train_accuracy': [0.7194274028629857, 0.8051124744376278], 'val_accuracy': [0.7552147239263803, 0.7638036809815951], 'train_loss': [0.5579955282261948, 0.4474914630181065], 'val_loss': [0.5160684104205346, 0.4970998137312777], 'f1': [0.649048745372277, 0.7805522545718651], 'val_f1': [0.7319882731647439, 0.7412701677407562], 'auc': [0.8119718720821684, 0.8908846872082173], 'val_auc': [0.8385037348272643, 0.8689746732026146]}\n",
            "Saved model\n"
          ]
        },
        {
          "output_type": "stream",
          "name": "stderr",
          "text": [
            "100%|██████████| 612/612 [02:22<00:00,  4.30it/s]\n",
            "100%|██████████| 204/204 [00:14<00:00, 14.08it/s]\n"
          ]
        },
        {
          "output_type": "stream",
          "name": "stdout",
          "text": [
            "Epochs: 3 | Train Loss:  0.352 | Train Accuracy:  0.859 | Val Loss:  0.544 | Val Accuracy:  0.764\n",
            "{'train_accuracy': [0.7194274028629857, 0.8051124744376278, 0.8588957055214724], 'val_accuracy': [0.7552147239263803, 0.7638036809815951, 0.7638036809815951], 'train_loss': [0.5579955282261948, 0.4474914630181065, 0.35219199478845387], 'val_loss': [0.5160684104205346, 0.4970998137312777, 0.5443001733362383], 'f1': [0.649048745372277, 0.7805522545718651, 0.8388467650722575], 'val_f1': [0.7319882731647439, 0.7412701677407562, 0.7499223271282093], 'auc': [0.8119718720821684, 0.8908846872082173, 0.9338420090258325], 'val_auc': [0.8385037348272643, 0.8689746732026146, 0.8541112278244635]}\n"
          ]
        },
        {
          "output_type": "stream",
          "name": "stderr",
          "text": [
            "100%|██████████| 612/612 [02:21<00:00,  4.33it/s]\n",
            "100%|██████████| 204/204 [00:14<00:00, 14.11it/s]\n"
          ]
        },
        {
          "output_type": "stream",
          "name": "stdout",
          "text": [
            "Epochs: 4 | Train Loss:  0.260 | Train Accuracy:  0.901 | Val Loss:  0.632 | Val Accuracy:  0.761\n",
            "{'train_accuracy': [0.7194274028629857, 0.8051124744376278, 0.8588957055214724, 0.9014314928425358], 'val_accuracy': [0.7552147239263803, 0.7638036809815951, 0.7638036809815951, 0.7613496932515338], 'train_loss': [0.5579955282261948, 0.4474914630181065, 0.35219199478845387, 0.25956966585838814], 'val_loss': [0.5160684104205346, 0.4970998137312777, 0.5443001733362383, 0.6323008590250039], 'f1': [0.649048745372277, 0.7805522545718651, 0.8388467650722575, 0.8791469605195114], 'val_f1': [0.7319882731647439, 0.7412701677407562, 0.7499223271282093, 0.7287838523132641], 'auc': [0.8119718720821684, 0.8908846872082173, 0.9338420090258325, 0.9606267507002804], 'val_auc': [0.8385037348272643, 0.8689746732026146, 0.8541112278244635, 0.8468749999999999]}\n"
          ]
        },
        {
          "output_type": "stream",
          "name": "stderr",
          "text": [
            "100%|██████████| 612/612 [02:20<00:00,  4.34it/s]\n",
            "100%|██████████| 204/204 [00:14<00:00, 14.12it/s]"
          ]
        },
        {
          "output_type": "stream",
          "name": "stdout",
          "text": [
            "Epochs: 5 | Train Loss:  0.189 | Train Accuracy:  0.933 | Val Loss:  0.604 | Val Accuracy:  0.766\n",
            "{'train_accuracy': [0.7194274028629857, 0.8051124744376278, 0.8588957055214724, 0.9014314928425358, 0.9333333333333333], 'val_accuracy': [0.7552147239263803, 0.7638036809815951, 0.7638036809815951, 0.7613496932515338, 0.7662576687116565], 'train_loss': [0.5579955282261948, 0.4474914630181065, 0.35219199478845387, 0.25956966585838814, 0.18916363349744406], 'val_loss': [0.5160684104205346, 0.4970998137312777, 0.5443001733362383, 0.6323008590250039, 0.6035306230552641], 'f1': [0.649048745372277, 0.7805522545718651, 0.8388467650722575, 0.8791469605195114, 0.9197410069959095], 'val_f1': [0.7319882731647439, 0.7412701677407562, 0.7499223271282093, 0.7287838523132641, 0.7429534245710715], 'auc': [0.8119718720821684, 0.8908846872082173, 0.9338420090258325, 0.9606267507002804, 0.9768343448490506], 'val_auc': [0.8385037348272643, 0.8689746732026146, 0.8541112278244635, 0.8468749999999999, 0.8454831932773109]}\n",
            "Early stopping\n"
          ]
        },
        {
          "output_type": "stream",
          "name": "stderr",
          "text": [
            "\n"
          ]
        }
      ]
    },
    {
      "cell_type": "code",
      "source": [
        "metrics"
      ],
      "metadata": {
        "colab": {
          "base_uri": "https://localhost:8080/"
        },
        "id": "KhMltPUb2ki_",
        "outputId": "5492072e-2518-4b81-ad1c-1ed325ae13d5"
      },
      "execution_count": 38,
      "outputs": [
        {
          "output_type": "execute_result",
          "data": {
            "text/plain": [
              "{'train_accuracy': [0.7194274028629857,\n",
              "  0.8051124744376278,\n",
              "  0.8588957055214724,\n",
              "  0.9014314928425358,\n",
              "  0.9333333333333333],\n",
              " 'val_accuracy': [0.7552147239263803,\n",
              "  0.7638036809815951,\n",
              "  0.7638036809815951,\n",
              "  0.7613496932515338,\n",
              "  0.7662576687116565],\n",
              " 'train_loss': [0.5579955282261948,\n",
              "  0.4474914630181065,\n",
              "  0.35219199478845387,\n",
              "  0.25956966585838814,\n",
              "  0.18916363349744406],\n",
              " 'val_loss': [0.5160684104205346,\n",
              "  0.4970998137312777,\n",
              "  0.5443001733362383,\n",
              "  0.6323008590250039,\n",
              "  0.6035306230552641],\n",
              " 'f1': [0.649048745372277,\n",
              "  0.7805522545718651,\n",
              "  0.8388467650722575,\n",
              "  0.8791469605195114,\n",
              "  0.9197410069959095],\n",
              " 'val_f1': [0.7319882731647439,\n",
              "  0.7412701677407562,\n",
              "  0.7499223271282093,\n",
              "  0.7287838523132641,\n",
              "  0.7429534245710715],\n",
              " 'auc': [0.8119718720821684,\n",
              "  0.8908846872082173,\n",
              "  0.9338420090258325,\n",
              "  0.9606267507002804,\n",
              "  0.9768343448490506],\n",
              " 'val_auc': [0.8385037348272643,\n",
              "  0.8689746732026146,\n",
              "  0.8541112278244635,\n",
              "  0.8468749999999999,\n",
              "  0.8454831932773109]}"
            ]
          },
          "metadata": {},
          "execution_count": 38
        }
      ]
    },
    {
      "cell_type": "code",
      "source": [
        "plt.plot(np.array(metrics['train_accuracy']) * 100.)\n",
        "plt.plot(np.array(metrics['val_accuracy']) * 100.)\n",
        "plt.legend(['train', 'valid'])\n",
        "plt.title('Accuracy plot for RoBERTa')\n",
        "plt.xlabel('Epoch')\n",
        "plt.ylabel('Accuracy (%)')\n",
        "plt.show()"
      ],
      "metadata": {
        "colab": {
          "base_uri": "https://localhost:8080/",
          "height": 472
        },
        "id": "yNwTKHACvz0B",
        "outputId": "5c4bc580-ef55-4433-a950-9e4ea6ef3e0d"
      },
      "execution_count": 39,
      "outputs": [
        {
          "output_type": "display_data",
          "data": {
            "text/plain": [
              "<Figure size 640x480 with 1 Axes>"
            ],
            "image/png": "[encoded data removed]"
          },
          "metadata": {}
        }
      ]
    },
    {
      "cell_type": "code",
      "source": [
        "plt.plot(np.array(metrics['train_loss']))\n",
        "plt.plot(np.array(metrics['val_loss']))\n",
        "plt.legend(['train', 'valid'])\n",
        "plt.title('Loss plot for RoBERTa')\n",
        "plt.xlabel('Epoch')\n",
        "plt.ylabel('Loss (binary cross-entropy)')\n",
        "plt.show()"
      ],
      "metadata": {
        "colab": {
          "base_uri": "https://localhost:8080/",
          "height": 472
        },
        "id": "nvSujXib4uNo",
        "outputId": "376bfef6-3dbc-43ec-c870-36a4edb05311"
      },
      "execution_count": 40,
      "outputs": [
        {
          "output_type": "display_data",
          "data": {
            "text/plain": [
              "<Figure size 640x480 with 1 Axes>"
            ],
            "image/png": "[encoded data removed]"
          },
          "metadata": {}
        }
      ]
    },
    {
      "cell_type": "code",
      "source": [
        "plt.plot(np.array(metrics['f1']) * 100)\n",
        "plt.plot(np.array(metrics['val_f1']) * 100)\n",
        "plt.legend(['train', 'valid'])\n",
        "plt.title('F1-score plot for RoBERTa')\n",
        "plt.xlabel('Epoch')\n",
        "plt.ylabel('F1-score (%)')\n",
        "plt.show()"
      ],
      "metadata": {
        "id": "vwcQ3t6Z46vA",
        "colab": {
          "base_uri": "https://localhost:8080/",
          "height": 472
        },
        "outputId": "273420f7-9a82-4a18-f68f-3395be4fc64b"
      },
      "execution_count": 41,
      "outputs": [
        {
          "output_type": "display_data",
          "data": {
            "text/plain": [
              "<Figure size 640x480 with 1 Axes>"
            ],
            "image/png": "[encoded data removed]"
          },
          "metadata": {}
        }
      ]
    },
    {
      "cell_type": "code",
      "source": [
        "plt.plot(np.array(metrics['auc']) * 100)\n",
        "plt.plot(np.array(metrics['val_auc']) * 100)\n",
        "plt.legend(['train', 'valid'])\n",
        "plt.title('AUC plot for RoBERTa')\n",
        "plt.xlabel('Epoch')\n",
        "plt.ylabel('AUC-score (%)')\n",
        "plt.show()"
      ],
      "metadata": {
        "colab": {
          "base_uri": "https://localhost:8080/",
          "height": 472
        },
        "id": "2TUSX2MTLlgY",
        "outputId": "70f40443-1a7b-4843-c198-2333248fd780"
      },
      "execution_count": 42,
      "outputs": [
        {
          "output_type": "display_data",
          "data": {
            "text/plain": [
              "<Figure size 640x480 with 1 Axes>"
            ],
            "image/png": "[encoded data removed]"
          },
          "metadata": {}
        }
      ]
    },
    {
      "cell_type": "code",
      "source": [],
      "metadata": {
        "id": "n8TuCNvgLsvI"
      },
      "execution_count": 42,
      "outputs": []
    }
  ]
}